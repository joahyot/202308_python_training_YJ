{
 "cells": [
  {
   "cell_type": "code",
   "execution_count": 2,
   "id": "2f6b40a8",
   "metadata": {},
   "outputs": [],
   "source": [
    "# 패키지 불러오기\n",
    "\n",
    "import pandas             as pd    # 데이터 읽어오기/저장하기, 데이터 핸들링\n",
    "import numpy              as np\n",
    "import seaborn            as sns   # 데이터 시각화(고수준)\n",
    "import matplotlib.pyplot  as plt   # 데이터 시각화(저수준)\n",
    "import scipy.stats        as stats # 통계, 수학"
   ]
  },
  {
   "cell_type": "code",
   "execution_count": 12,
   "id": "1bbb391b",
   "metadata": {},
   "outputs": [],
   "source": [
    "diamonds = sns.load_dataset(\"diamonds\")"
   ]
  },
  {
   "cell_type": "code",
   "execution_count": 13,
   "id": "9be00c65",
   "metadata": {},
   "outputs": [],
   "source": [
    "# HDD에 있는 pickle 데이터를 메모리(RAM)에 올리는 기능\n",
    "data = pd.read_pickle(\"d:/novelis/ds2023/diamonds_230830.pickle\")"
   ]
  },
  {
   "cell_type": "code",
   "execution_count": 14,
   "id": "209530ff",
   "metadata": {},
   "outputs": [],
   "source": [
    "# (2) 다름(퍼짐, 산포) : 데이터 분석의 핵심\n",
    "# 범위, 사분위 범위, 표준편차, 중위수절대편차"
   ]
  },
  {
   "cell_type": "code",
   "execution_count": 15,
   "id": "3a1fd897",
   "metadata": {},
   "outputs": [
    {
     "data": {
      "text/plain": [
       "4.81"
      ]
     },
     "execution_count": 15,
     "metadata": {},
     "output_type": "execute_result"
    }
   ],
   "source": [
    "# i. 범위(Range) : 최대값(Max) - 최소값(Min)\n",
    "# data.수치형 데이터.max() - data.수치형데이터.min() \n",
    "diamonds.carat.max() - diamonds.carat.min()"
   ]
  },
  {
   "cell_type": "code",
   "execution_count": 16,
   "id": "63354f33",
   "metadata": {},
   "outputs": [
    {
     "data": {
      "text/plain": [
       "0.64"
      ]
     },
     "execution_count": 16,
     "metadata": {},
     "output_type": "execute_result"
    }
   ],
   "source": [
    "# ii. 사분위범위(IQR: Inter Quartile Range) : Q3 - Q1 \n",
    "# scipy.stats.iqr(data.수치형데이터)\n",
    "stats.iqr(data.carat)"
   ]
  },
  {
   "cell_type": "code",
   "execution_count": 17,
   "id": "85fe6348",
   "metadata": {},
   "outputs": [
    {
     "data": {
      "text/plain": [
       "0.47401124440538067"
      ]
     },
     "execution_count": 17,
     "metadata": {},
     "output_type": "execute_result"
    }
   ],
   "source": [
    "# iii. 표준편차(SD: Standard Deviation)\n",
    "# 중심(대표값)과 얼마나 다를까? \n",
    "# 평균과 얼마나 다를까? \n",
    "# 참고로 표준편차는 이상치의 영향을 많이 받기 떄문에 위험한 값\n",
    "\n",
    "# data.수치형데이터.std()\n",
    "diamonds.carat.std()"
   ]
  },
  {
   "cell_type": "code",
   "execution_count": 18,
   "id": "601d2a4c",
   "metadata": {},
   "outputs": [
    {
     "data": {
      "text/plain": [
       "0.32000000000000006"
      ]
     },
     "execution_count": 18,
     "metadata": {},
     "output_type": "execute_result"
    }
   ],
   "source": [
    "# iv. 중위수절대편차(MAD: Median Absolute Deviation)\n",
    "# 중심(대표값)과 얼마나 다를까?\n",
    "# 중위수와 얼마나 다를까?\n",
    "\n",
    "#scipy.stats.median_abs_deviation(data.수치형데이터)\n",
    "stats.median_abs_deviation(diamonds.carat)"
   ]
  },
  {
   "cell_type": "code",
   "execution_count": 19,
   "id": "db57280c",
   "metadata": {},
   "outputs": [
    {
     "data": {
      "text/plain": [
       "1.1166148681277797"
      ]
     },
     "execution_count": 19,
     "metadata": {},
     "output_type": "execute_result"
    }
   ],
   "source": [
    "# (3) 분포의 모양: 왜도, 첨도 \n",
    "# i.왜도(Skewness): 기울어진 정도, 대칭 여부 파악\n",
    "# scipy.stats.skew(data.수치데이터)\n",
    "stats.skew(diamonds.carat)"
   ]
  },
  {
   "cell_type": "code",
   "execution_count": 21,
   "id": "15e4d683",
   "metadata": {},
   "outputs": [
    {
     "data": {
      "text/plain": [
       "1.2564076184374766"
      ]
     },
     "execution_count": 21,
     "metadata": {},
     "output_type": "execute_result"
    }
   ],
   "source": [
    "# ii.첨도(Kurtosis): 중심이 얼마나 뾰족한가? 중심에 얼마나 몰려 있는가? \n",
    "# scipy.stats.kurtosis(data.수치형데이터)\n",
    "stats.kurtosis(diamonds.carat)"
   ]
  },
  {
   "cell_type": "code",
   "execution_count": 22,
   "id": "80f40e41",
   "metadata": {},
   "outputs": [
    {
     "data": {
      "text/plain": [
       "count    53940.000000\n",
       "mean         0.797940\n",
       "std          0.474011\n",
       "min          0.200000\n",
       "25%          0.400000\n",
       "50%          0.700000\n",
       "75%          1.040000\n",
       "max          5.010000\n",
       "Name: carat, dtype: float64"
      ]
     },
     "execution_count": 22,
     "metadata": {},
     "output_type": "execute_result"
    }
   ],
   "source": [
    "# data.수치형데이터.describe()\n",
    "diamonds.carat.describe()"
   ]
  },
  {
   "cell_type": "code",
   "execution_count": 23,
   "id": "ee59552a",
   "metadata": {},
   "outputs": [],
   "source": [
    "# count : 데이터의 개수 : n\n",
    "\n",
    "# 참고 : 데이터의 개수 \n",
    "# N : 모집단(Population)의 데이터의 개수\n",
    "# n : 표본(sample)의 데이터의 개수\n",
    "\n",
    "# 모집단 : 관심 있는 대상의 전체\n",
    "\n",
    "# 25% : Q1 : first Quartile : 제 1 사분위수\n",
    "# 50% : Median : Q2\n",
    "# 75% : Q3 : third Quartile : 제 3 사분위수"
   ]
  },
  {
   "cell_type": "code",
   "execution_count": 24,
   "id": "be46638b",
   "metadata": {},
   "outputs": [
    {
     "data": {
      "text/plain": [
       "DescribeResult(nobs=53940, minmax=(0.2, 5.01), mean=0.7979397478680014, variance=0.22468665982277336, skewness=1.1166148681277797, kurtosis=1.2564076184374766)"
      ]
     },
     "execution_count": 24,
     "metadata": {},
     "output_type": "execute_result"
    }
   ],
   "source": [
    "# scipy.stats.descrieb(data.수치형데이터)\n",
    "stats.describe(diamonds.carat)"
   ]
  },
  {
   "cell_type": "code",
   "execution_count": 25,
   "id": "253e478a",
   "metadata": {},
   "outputs": [],
   "source": [
    "# variance : 분산, 표준 편차의 제곱 \n",
    "# 평균과 얼마나 다를까를 알려줌, 단위 문제가 있음"
   ]
  },
  {
   "cell_type": "markdown",
   "id": "69a3ddcf",
   "metadata": {},
   "source": [
    "### 3. 범주형 데이터의 분석: 2개의 열\n",
    "- 표 = 교차표\n",
    "- 데이터 시각화 : 누적막대그래프"
   ]
  },
  {
   "cell_type": "code",
   "execution_count": 26,
   "id": "5117268e",
   "metadata": {},
   "outputs": [],
   "source": [
    "# 범주형 데이터 : 1개 : X : 독립변수, Feature \n",
    "# 범주형 데이터 : 1개 : Y : 종속변수, Label or Target"
   ]
  },
  {
   "cell_type": "code",
   "execution_count": 27,
   "id": "a6ac2090",
   "metadata": {},
   "outputs": [],
   "source": [
    "# 범주형 데이터 : cut   : X\n",
    "# 범주형 데이터 : color : Y "
   ]
  },
  {
   "cell_type": "code",
   "execution_count": 28,
   "id": "b535a938",
   "metadata": {},
   "outputs": [],
   "source": [
    "# 3.1 표 = 교차표(Cross Table)\n",
    "# 빈도, 전체 백분율, 행 백분율, 열 백분율"
   ]
  },
  {
   "cell_type": "code",
   "execution_count": 29,
   "id": "57de9c29",
   "metadata": {},
   "outputs": [],
   "source": [
    "# (1) 빈도(Frequency)\n",
    "# pd.crosstab(index = data.범주형데이터(X), \n",
    "#           columns = data.범주형데이터(Y/),\n",
    "#           margins = True)"
   ]
  },
  {
   "cell_type": "code",
   "execution_count": 31,
   "id": "666236eb",
   "metadata": {},
   "outputs": [
    {
     "data": {
      "text/html": [
       "<div>\n",
       "<style scoped>\n",
       "    .dataframe tbody tr th:only-of-type {\n",
       "        vertical-align: middle;\n",
       "    }\n",
       "\n",
       "    .dataframe tbody tr th {\n",
       "        vertical-align: top;\n",
       "    }\n",
       "\n",
       "    .dataframe thead th {\n",
       "        text-align: right;\n",
       "    }\n",
       "</style>\n",
       "<table border=\"1\" class=\"dataframe\">\n",
       "  <thead>\n",
       "    <tr style=\"text-align: right;\">\n",
       "      <th>color</th>\n",
       "      <th>D</th>\n",
       "      <th>E</th>\n",
       "      <th>F</th>\n",
       "      <th>G</th>\n",
       "      <th>H</th>\n",
       "      <th>I</th>\n",
       "      <th>J</th>\n",
       "      <th>All</th>\n",
       "    </tr>\n",
       "    <tr>\n",
       "      <th>cut</th>\n",
       "      <th></th>\n",
       "      <th></th>\n",
       "      <th></th>\n",
       "      <th></th>\n",
       "      <th></th>\n",
       "      <th></th>\n",
       "      <th></th>\n",
       "      <th></th>\n",
       "    </tr>\n",
       "  </thead>\n",
       "  <tbody>\n",
       "    <tr>\n",
       "      <th>Ideal</th>\n",
       "      <td>2834</td>\n",
       "      <td>3903</td>\n",
       "      <td>3826</td>\n",
       "      <td>4884</td>\n",
       "      <td>3115</td>\n",
       "      <td>2093</td>\n",
       "      <td>896</td>\n",
       "      <td>21551</td>\n",
       "    </tr>\n",
       "    <tr>\n",
       "      <th>Premium</th>\n",
       "      <td>1603</td>\n",
       "      <td>2337</td>\n",
       "      <td>2331</td>\n",
       "      <td>2924</td>\n",
       "      <td>2360</td>\n",
       "      <td>1428</td>\n",
       "      <td>808</td>\n",
       "      <td>13791</td>\n",
       "    </tr>\n",
       "    <tr>\n",
       "      <th>Very Good</th>\n",
       "      <td>1513</td>\n",
       "      <td>2400</td>\n",
       "      <td>2164</td>\n",
       "      <td>2299</td>\n",
       "      <td>1824</td>\n",
       "      <td>1204</td>\n",
       "      <td>678</td>\n",
       "      <td>12082</td>\n",
       "    </tr>\n",
       "    <tr>\n",
       "      <th>Good</th>\n",
       "      <td>662</td>\n",
       "      <td>933</td>\n",
       "      <td>909</td>\n",
       "      <td>871</td>\n",
       "      <td>702</td>\n",
       "      <td>522</td>\n",
       "      <td>307</td>\n",
       "      <td>4906</td>\n",
       "    </tr>\n",
       "    <tr>\n",
       "      <th>Fair</th>\n",
       "      <td>163</td>\n",
       "      <td>224</td>\n",
       "      <td>312</td>\n",
       "      <td>314</td>\n",
       "      <td>303</td>\n",
       "      <td>175</td>\n",
       "      <td>119</td>\n",
       "      <td>1610</td>\n",
       "    </tr>\n",
       "    <tr>\n",
       "      <th>All</th>\n",
       "      <td>6775</td>\n",
       "      <td>9797</td>\n",
       "      <td>9542</td>\n",
       "      <td>11292</td>\n",
       "      <td>8304</td>\n",
       "      <td>5422</td>\n",
       "      <td>2808</td>\n",
       "      <td>53940</td>\n",
       "    </tr>\n",
       "  </tbody>\n",
       "</table>\n",
       "</div>"
      ],
      "text/plain": [
       "color         D     E     F      G     H     I     J    All\n",
       "cut                                                        \n",
       "Ideal      2834  3903  3826   4884  3115  2093   896  21551\n",
       "Premium    1603  2337  2331   2924  2360  1428   808  13791\n",
       "Very Good  1513  2400  2164   2299  1824  1204   678  12082\n",
       "Good        662   933   909    871   702   522   307   4906\n",
       "Fair        163   224   312    314   303   175   119   1610\n",
       "All        6775  9797  9542  11292  8304  5422  2808  53940"
      ]
     },
     "execution_count": 31,
     "metadata": {},
     "output_type": "execute_result"
    }
   ],
   "source": [
    "pd.crosstab(index = diamonds.cut,\n",
    "           columns = diamonds.color,\n",
    "           margins = True)"
   ]
  },
  {
   "cell_type": "code",
   "execution_count": 32,
   "id": "6dbcc5af",
   "metadata": {},
   "outputs": [],
   "source": [
    "# (2) 전체 백분율 : (빈도/전체 합계(53940)) * 100\n",
    "# pd.crosstab(index = data.범주형데이터(X), \n",
    "#           columns = data.범주형데이터(Y/),\n",
    "#           margins = True, \n",
    "#           normalize = True)*100"
   ]
  },
  {
   "cell_type": "code",
   "execution_count": 33,
   "id": "1e886f20",
   "metadata": {},
   "outputs": [
    {
     "data": {
      "text/html": [
       "<div>\n",
       "<style scoped>\n",
       "    .dataframe tbody tr th:only-of-type {\n",
       "        vertical-align: middle;\n",
       "    }\n",
       "\n",
       "    .dataframe tbody tr th {\n",
       "        vertical-align: top;\n",
       "    }\n",
       "\n",
       "    .dataframe thead th {\n",
       "        text-align: right;\n",
       "    }\n",
       "</style>\n",
       "<table border=\"1\" class=\"dataframe\">\n",
       "  <thead>\n",
       "    <tr style=\"text-align: right;\">\n",
       "      <th>color</th>\n",
       "      <th>D</th>\n",
       "      <th>E</th>\n",
       "      <th>F</th>\n",
       "      <th>G</th>\n",
       "      <th>H</th>\n",
       "      <th>I</th>\n",
       "      <th>J</th>\n",
       "      <th>All</th>\n",
       "    </tr>\n",
       "    <tr>\n",
       "      <th>cut</th>\n",
       "      <th></th>\n",
       "      <th></th>\n",
       "      <th></th>\n",
       "      <th></th>\n",
       "      <th></th>\n",
       "      <th></th>\n",
       "      <th></th>\n",
       "      <th></th>\n",
       "    </tr>\n",
       "  </thead>\n",
       "  <tbody>\n",
       "    <tr>\n",
       "      <th>Ideal</th>\n",
       "      <td>5.253986</td>\n",
       "      <td>7.235818</td>\n",
       "      <td>7.093066</td>\n",
       "      <td>9.054505</td>\n",
       "      <td>5.774935</td>\n",
       "      <td>3.880237</td>\n",
       "      <td>1.661105</td>\n",
       "      <td>39.953652</td>\n",
       "    </tr>\n",
       "    <tr>\n",
       "      <th>Premium</th>\n",
       "      <td>2.971821</td>\n",
       "      <td>4.332592</td>\n",
       "      <td>4.321468</td>\n",
       "      <td>5.420838</td>\n",
       "      <td>4.375232</td>\n",
       "      <td>2.647386</td>\n",
       "      <td>1.497961</td>\n",
       "      <td>25.567297</td>\n",
       "    </tr>\n",
       "    <tr>\n",
       "      <th>Very Good</th>\n",
       "      <td>2.804968</td>\n",
       "      <td>4.449388</td>\n",
       "      <td>4.011865</td>\n",
       "      <td>4.262143</td>\n",
       "      <td>3.381535</td>\n",
       "      <td>2.232110</td>\n",
       "      <td>1.256952</td>\n",
       "      <td>22.398962</td>\n",
       "    </tr>\n",
       "    <tr>\n",
       "      <th>Good</th>\n",
       "      <td>1.227290</td>\n",
       "      <td>1.729700</td>\n",
       "      <td>1.685206</td>\n",
       "      <td>1.614757</td>\n",
       "      <td>1.301446</td>\n",
       "      <td>0.967742</td>\n",
       "      <td>0.569151</td>\n",
       "      <td>9.095291</td>\n",
       "    </tr>\n",
       "    <tr>\n",
       "      <th>Fair</th>\n",
       "      <td>0.302188</td>\n",
       "      <td>0.415276</td>\n",
       "      <td>0.578420</td>\n",
       "      <td>0.582128</td>\n",
       "      <td>0.561735</td>\n",
       "      <td>0.324435</td>\n",
       "      <td>0.220615</td>\n",
       "      <td>2.984798</td>\n",
       "    </tr>\n",
       "    <tr>\n",
       "      <th>All</th>\n",
       "      <td>12.560252</td>\n",
       "      <td>18.162773</td>\n",
       "      <td>17.690026</td>\n",
       "      <td>20.934372</td>\n",
       "      <td>15.394883</td>\n",
       "      <td>10.051910</td>\n",
       "      <td>5.205784</td>\n",
       "      <td>100.000000</td>\n",
       "    </tr>\n",
       "  </tbody>\n",
       "</table>\n",
       "</div>"
      ],
      "text/plain": [
       "color              D          E          F          G          H          I  \\\n",
       "cut                                                                           \n",
       "Ideal       5.253986   7.235818   7.093066   9.054505   5.774935   3.880237   \n",
       "Premium     2.971821   4.332592   4.321468   5.420838   4.375232   2.647386   \n",
       "Very Good   2.804968   4.449388   4.011865   4.262143   3.381535   2.232110   \n",
       "Good        1.227290   1.729700   1.685206   1.614757   1.301446   0.967742   \n",
       "Fair        0.302188   0.415276   0.578420   0.582128   0.561735   0.324435   \n",
       "All        12.560252  18.162773  17.690026  20.934372  15.394883  10.051910   \n",
       "\n",
       "color             J         All  \n",
       "cut                              \n",
       "Ideal      1.661105   39.953652  \n",
       "Premium    1.497961   25.567297  \n",
       "Very Good  1.256952   22.398962  \n",
       "Good       0.569151    9.095291  \n",
       "Fair       0.220615    2.984798  \n",
       "All        5.205784  100.000000  "
      ]
     },
     "execution_count": 33,
     "metadata": {},
     "output_type": "execute_result"
    }
   ],
   "source": [
    "pd.crosstab(index    = diamonds.cut,\n",
    "           columns   = diamonds.color,\n",
    "           margins   = True,\n",
    "           normalize = True)*100"
   ]
  },
  {
   "cell_type": "code",
   "execution_count": null,
   "id": "dfccfb12",
   "metadata": {},
   "outputs": [],
   "source": [
    "# Ideal & G : 9.1% \n",
    "# Ideal & F : 7.1%\n",
    "\n",
    "# 질문 : 두 백분율의 차이는 얼마인가요?\n",
    "# 2%p 차이가 나요\n",
    "# %p: Percent Point : 백분율과 백분율의 차이 "
   ]
  }
 ],
 "metadata": {
  "kernelspec": {
   "display_name": "Python 3 (ipykernel)",
   "language": "python",
   "name": "python3"
  },
  "language_info": {
   "codemirror_mode": {
    "name": "ipython",
    "version": 3
   },
   "file_extension": ".py",
   "mimetype": "text/x-python",
   "name": "python",
   "nbconvert_exporter": "python",
   "pygments_lexer": "ipython3",
   "version": "3.9.16"
  }
 },
 "nbformat": 4,
 "nbformat_minor": 5
}
