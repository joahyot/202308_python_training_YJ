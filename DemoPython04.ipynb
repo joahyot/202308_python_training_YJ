{
 "cells": [
  {
   "cell_type": "code",
   "execution_count": 2,
   "id": "0fc66fdb",
   "metadata": {},
   "outputs": [],
   "source": [
    "# 패키지 불러오기\n",
    "\n",
    "import pandas             as pd    # 데이터 읽어오기/저장하기, 데이터 핸들링\n",
    "import numpy              as np\n",
    "import seaborn            as sns   # 데이터 시각화(고수준)\n",
    "import matplotlib.pyplot  as plt   # 데이터 시각화(저수준)\n",
    "import scipy.stats        as stats # 통계, 수학"
   ]
  },
  {
   "cell_type": "code",
   "execution_count": 12,
   "id": "02c385a2",
   "metadata": {},
   "outputs": [],
   "source": [
    "diamonds = sns.load_dataset(\"diamonds\")"
   ]
  },
  {
   "cell_type": "code",
   "execution_count": 13,
   "id": "d0062f27",
   "metadata": {},
   "outputs": [],
   "source": [
    "# HDD에 있는 pickle 데이터를 메모리(RAM)에 올리는 기능\n",
    "data = pd.read_pickle(\"d:/novelis/ds2023/diamonds_230830.pickle\")"
   ]
  },
  {
   "cell_type": "code",
   "execution_count": 14,
   "id": "3ba70cdb",
   "metadata": {},
   "outputs": [],
   "source": [
    "# (2) 다름(퍼짐, 산포) : 데이터 분석의 핵심\n",
    "# 범위, 사분위 범위, 표준편차, 중위수절대편차"
   ]
  },
  {
   "cell_type": "code",
   "execution_count": 15,
   "id": "b7d4bb87",
   "metadata": {},
   "outputs": [
    {
     "data": {
      "text/plain": [
       "4.81"
      ]
     },
     "execution_count": 15,
     "metadata": {},
     "output_type": "execute_result"
    }
   ],
   "source": [
    "# i. 범위(Range) : 최대값(Max) - 최소값(Min)\n",
    "# data.수치형 데이터.max() - data.수치형데이터.min() \n",
    "diamonds.carat.max() - diamonds.carat.min()"
   ]
  },
  {
   "cell_type": "code",
   "execution_count": 16,
   "id": "a5cd0ee8",
   "metadata": {},
   "outputs": [
    {
     "data": {
      "text/plain": [
       "0.64"
      ]
     },
     "execution_count": 16,
     "metadata": {},
     "output_type": "execute_result"
    }
   ],
   "source": [
    "# ii. 사분위범위(IQR: Inter Quartile Range) : Q3 - Q1 \n",
    "# scipy.stats.iqr(data.수치형데이터)\n",
    "stats.iqr(data.carat)"
   ]
  },
  {
   "cell_type": "code",
   "execution_count": 17,
   "id": "41599618",
   "metadata": {},
   "outputs": [
    {
     "data": {
      "text/plain": [
       "0.47401124440538067"
      ]
     },
     "execution_count": 17,
     "metadata": {},
     "output_type": "execute_result"
    }
   ],
   "source": [
    "# iii. 표준편차(SD: Standard Deviation)\n",
    "# 중심(대표값)과 얼마나 다를까? \n",
    "# 평균과 얼마나 다를까? \n",
    "# 참고로 표준편차는 이상치의 영향을 많이 받기 떄문에 위험한 값\n",
    "\n",
    "# data.수치형데이터.std()\n",
    "diamonds.carat.std()"
   ]
  },
  {
   "cell_type": "code",
   "execution_count": null,
   "id": "49f77e3d",
   "metadata": {},
   "outputs": [],
   "source": []
  }
 ],
 "metadata": {
  "kernelspec": {
   "display_name": "Python 3 (ipykernel)",
   "language": "python",
   "name": "python3"
  },
  "language_info": {
   "codemirror_mode": {
    "name": "ipython",
    "version": 3
   },
   "file_extension": ".py",
   "mimetype": "text/x-python",
   "name": "python",
   "nbconvert_exporter": "python",
   "pygments_lexer": "ipython3",
   "version": "3.9.16"
  }
 },
 "nbformat": 4,
 "nbformat_minor": 5
}
