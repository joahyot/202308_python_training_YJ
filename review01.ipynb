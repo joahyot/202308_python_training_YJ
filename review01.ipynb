{
 "cells": [
  {
   "cell_type": "markdown",
   "metadata": {},
   "source": [
    "## CM3 data로 복습하기 1"
   ]
  },
  {
   "cell_type": "code",
   "execution_count": 1,
   "metadata": {},
   "outputs": [
    {
     "name": "stderr",
     "output_type": "stream",
     "text": [
      "c:\\Python311\\Lib\\site-packages\\tqdm\\auto.py:21: TqdmWarning: IProgress not found. Please update jupyter and ipywidgets. See https://ipywidgets.readthedocs.io/en/stable/user_install.html\n",
      "  from .autonotebook import tqdm as notebook_tqdm\n"
     ]
    }
   ],
   "source": [
    "# CM3 data로 복습하기 1 \n",
    "\n",
    "import pandas as pd\n",
    "import numpy as np\n",
    "import matplotlib.pyplot as plt\n",
    "import seaborn as sns\n",
    "import scipy.stats as stats \n",
    "import sweetviz as sv\n",
    "from statsmodels.formula.api import ols\n",
    "\n",
    "import warnings\n",
    "warnings.filterwarnings(\"ignore\")\n"
   ]
  },
  {
   "cell_type": "code",
   "execution_count": 3,
   "metadata": {},
   "outputs": [
    {
     "data": {
      "text/html": [
       "<div>\n",
       "<style scoped>\n",
       "    .dataframe tbody tr th:only-of-type {\n",
       "        vertical-align: middle;\n",
       "    }\n",
       "\n",
       "    .dataframe tbody tr th {\n",
       "        vertical-align: top;\n",
       "    }\n",
       "\n",
       "    .dataframe thead th {\n",
       "        text-align: right;\n",
       "    }\n",
       "</style>\n",
       "<table border=\"1\" class=\"dataframe\">\n",
       "  <thead>\n",
       "    <tr style=\"text-align: right;\">\n",
       "      <th></th>\n",
       "      <th>구분</th>\n",
       "      <th>회수율</th>\n",
       "      <th>시작일시</th>\n",
       "      <th>종료일시</th>\n",
       "      <th>준비시간</th>\n",
       "      <th>작업시간</th>\n",
       "      <th>소요시간(UPTIME)</th>\n",
       "      <th>Batch No</th>\n",
       "      <th>YS_TARGET_온도</th>\n",
       "      <th>Make as Alloy</th>\n",
       "      <th>...</th>\n",
       "      <th>GAUGE 3SIGMA</th>\n",
       "      <th>FLATNESS 3SIGMA</th>\n",
       "      <th>ENTRY WEIGHT</th>\n",
       "      <th>2STD 평균속도</th>\n",
       "      <th>2STD 최대속도</th>\n",
       "      <th>2STD BENDING</th>\n",
       "      <th>2STD ROLL FORCE</th>\n",
       "      <th>입측 COIL온도</th>\n",
       "      <th>평균 출측 온도</th>\n",
       "      <th>COIL TEMP DIFF</th>\n",
       "    </tr>\n",
       "  </thead>\n",
       "  <tbody>\n",
       "    <tr>\n",
       "      <th>0</th>\n",
       "      <td>NaN</td>\n",
       "      <td>97.21</td>\n",
       "      <td>2023-01-01 06:27:25</td>\n",
       "      <td>2023-01-01 06:37:00</td>\n",
       "      <td>2.83</td>\n",
       "      <td>6.75</td>\n",
       "      <td>9.58</td>\n",
       "      <td>S843331</td>\n",
       "      <td>165.0</td>\n",
       "      <td>M3104</td>\n",
       "      <td>...</td>\n",
       "      <td>0.82</td>\n",
       "      <td>2.76</td>\n",
       "      <td>11881.0</td>\n",
       "      <td>1109.0</td>\n",
       "      <td>1392.0</td>\n",
       "      <td>14.3</td>\n",
       "      <td>489.0</td>\n",
       "      <td>58.0</td>\n",
       "      <td>142.53360</td>\n",
       "      <td>-22.46640</td>\n",
       "    </tr>\n",
       "    <tr>\n",
       "      <th>1</th>\n",
       "      <td>NaN</td>\n",
       "      <td>97.30</td>\n",
       "      <td>2023-01-01 06:37:00</td>\n",
       "      <td>2023-01-01 06:46:01</td>\n",
       "      <td>2.73</td>\n",
       "      <td>6.28</td>\n",
       "      <td>9.01</td>\n",
       "      <td>S843341</td>\n",
       "      <td>165.0</td>\n",
       "      <td>M3104</td>\n",
       "      <td>...</td>\n",
       "      <td>0.78</td>\n",
       "      <td>3.12</td>\n",
       "      <td>11876.0</td>\n",
       "      <td>1180.0</td>\n",
       "      <td>1518.0</td>\n",
       "      <td>16.7</td>\n",
       "      <td>485.0</td>\n",
       "      <td>58.0</td>\n",
       "      <td>142.68825</td>\n",
       "      <td>-22.31175</td>\n",
       "    </tr>\n",
       "  </tbody>\n",
       "</table>\n",
       "<p>2 rows × 36 columns</p>\n",
       "</div>"
      ],
      "text/plain": [
       "    구분    회수율                시작일시                종료일시  준비시간  작업시간  \\\n",
       "0  NaN  97.21 2023-01-01 06:27:25 2023-01-01 06:37:00  2.83  6.75   \n",
       "1  NaN  97.30 2023-01-01 06:37:00 2023-01-01 06:46:01  2.73  6.28   \n",
       "\n",
       "   소요시간(UPTIME) Batch No  YS_TARGET_온도 Make as Alloy  ... GAUGE 3SIGMA  \\\n",
       "0          9.58  S843331         165.0         M3104  ...         0.82   \n",
       "1          9.01  S843341         165.0         M3104  ...         0.78   \n",
       "\n",
       "   FLATNESS 3SIGMA  ENTRY WEIGHT 2STD 평균속도  2STD 최대속도 2STD BENDING  \\\n",
       "0             2.76       11881.0    1109.0     1392.0         14.3   \n",
       "1             3.12       11876.0    1180.0     1518.0         16.7   \n",
       "\n",
       "   2STD ROLL FORCE  입측 COIL온도   평균 출측 온도 COIL TEMP DIFF  \n",
       "0            489.0       58.0  142.53360      -22.46640  \n",
       "1            485.0       58.0  142.68825      -22.31175  \n",
       "\n",
       "[2 rows x 36 columns]"
      ]
     },
     "execution_count": 3,
     "metadata": {},
     "output_type": "execute_result"
    }
   ],
   "source": [
    "# 분석 연습 파일 불러오기\n",
    "cm3 = pd.read_excel(\"d:/novelis/ds2023/CM3_분석연습.xls\")\n",
    "cm3.head(2)"
   ]
  },
  {
   "cell_type": "code",
   "execution_count": 5,
   "metadata": {},
   "outputs": [
    {
     "data": {
      "text/plain": [
       "(30931, 36)"
      ]
     },
     "execution_count": 5,
     "metadata": {},
     "output_type": "execute_result"
    }
   ],
   "source": [
    "cm3.shape # 행의 개수와 열의 개수 "
   ]
  },
  {
   "cell_type": "code",
   "execution_count": 6,
   "metadata": {},
   "outputs": [
    {
     "data": {
      "text/plain": [
       "Index(['구분', '회수율', '시작일시', '종료일시', '준비시간', '작업시간', '소요시간(UPTIME)', 'Batch No',\n",
       "       'YS_TARGET_온도', 'Make as Alloy', 'Pass', 'ENTRY중량', 'EXIT중량', '작업자',\n",
       "       '폭', '후공정', '입측텐션', '인터텐션', '출측텐션', '판검사', '회수율내역', '일연실적일', 'TR속도',\n",
       "       'ENTRY GAUGE', 'INTER GAUGE', 'EXIT GAUGE', 'GAUGE 3SIGMA',\n",
       "       'FLATNESS 3SIGMA', 'ENTRY WEIGHT', '2STD 평균속도', '2STD 최대속도',\n",
       "       '2STD BENDING', '2STD ROLL FORCE', '입측 COIL온도', '평균 출측 온도',\n",
       "       'COIL TEMP DIFF'],\n",
       "      dtype='object')"
      ]
     },
     "execution_count": 6,
     "metadata": {},
     "output_type": "execute_result"
    }
   ],
   "source": [
    "cm3.columns # 열의 이름"
   ]
  },
  {
   "cell_type": "code",
   "execution_count": 10,
   "metadata": {},
   "outputs": [],
   "source": [
    "cm3_a = cm3[['구분','Batch No', '회수율', '시작일시', '종료일시', '준비시간', '작업시간', '소요시간(UPTIME)']]\n",
    "cm3_b = cm3[['Batch No','시작일시', '종료일시','YS_TARGET_온도', 'Make as Alloy', 'Pass','폭', 'ENTRY GAUGE', 'INTER GAUGE', 'EXIT GAUGE']]\n",
    "cm3_c = cm3[['Batch No','시작일시', '종료일시','2STD BENDING','2STD 평균속도', '2STD 최대속도', '2STD ROLL FORCE', '입측 COIL온도', '평균 출측 온도']]"
   ]
  },
  {
   "cell_type": "code",
   "execution_count": 13,
   "metadata": {},
   "outputs": [
    {
     "data": {
      "text/plain": [
       "구분                      object\n",
       "Batch No                object\n",
       "회수율                    float64\n",
       "시작일시            datetime64[ns]\n",
       "종료일시            datetime64[ns]\n",
       "준비시간                   float64\n",
       "작업시간                   float64\n",
       "소요시간(UPTIME)           float64\n",
       "dtype: object"
      ]
     },
     "execution_count": 13,
     "metadata": {},
     "output_type": "execute_result"
    }
   ],
   "source": [
    "cm3_a.dtypes "
   ]
  },
  {
   "cell_type": "code",
   "execution_count": 83,
   "metadata": {},
   "outputs": [],
   "source": [
    "import datetime as dt \n",
    "\n",
    "# %Y: 연도를 4자리로 나타내고 싶을 때 사용함\n",
    "# %m: 월을 2자리로 나타내고 싶을 때 사용함\n",
    "# %d: 일을 2자리로 나타내고 싶을 때 사용함 \n",
    "\n",
    "# \"{:%Y-%m-%d %H:%M:%S}\".format(data)"
   ]
  },
  {
   "cell_type": "code",
   "execution_count": 84,
   "metadata": {},
   "outputs": [],
   "source": [
    "# datatime64 타입으로 변경\n",
    "# cm3_a[\"시작일시\"] = pd.to_datetime(cm3_a[\"시작일시\"], format =\"%Y-%m-%d\", errors = 'raise')"
   ]
  },
  {
   "cell_type": "code",
   "execution_count": 85,
   "metadata": {},
   "outputs": [
    {
     "data": {
      "text/plain": [
       "구분                      object\n",
       "Batch No                object\n",
       "회수율                    float64\n",
       "종료일시            datetime64[ns]\n",
       "준비시간                   float64\n",
       "작업시간                   float64\n",
       "소요시간(UPTIME)           float64\n",
       "DATE                    object\n",
       "month                    int32\n",
       "day                      int32\n",
       "time                    object\n",
       "dtype: object"
      ]
     },
     "execution_count": 85,
     "metadata": {},
     "output_type": "execute_result"
    }
   ],
   "source": [
    "# 각 열의 타입 확인\n",
    "cm3_a.dtypes "
   ]
  },
  {
   "cell_type": "code",
   "execution_count": 86,
   "metadata": {},
   "outputs": [],
   "source": [
    "# cm3_a[\"DATE\"]  = cm3_a[\"시작일시\"].dt.date   # YYYY-MM-DD(문자)\n",
    "# cm3_a[\"month\"] = cm3_a[\"시작일시\"].dt.month  # 월(숫자)\n",
    "# cm3_a[\"day\"]   = cm3_a[\"시작일시\"].dt.day    # 일(숫자)\n",
    "# cm3_a[\"time\"]  = cm3_a[\"시작일시\"].dt.time   # 시(숫자)\n"
   ]
  },
  {
   "cell_type": "code",
   "execution_count": 87,
   "metadata": {},
   "outputs": [],
   "source": [
    "# 에러 발생\n",
    "# A조: 06:30 ~ 14:30 / B조: 14:30 ~ 22:30 / C조: 22:30 ~ 06:30\n",
    "# cm3_a[\"조\"] = cm3[\"시작일시\"].apply(lambda x: \"%d\"-1 if x == '%M'<6, '%M'<30  else \"%d\")\n"
   ]
  },
  {
   "cell_type": "code",
   "execution_count": 88,
   "metadata": {},
   "outputs": [],
   "source": [
    "# cm3_a.set_index(\"시작일시\",inplace = True)"
   ]
  },
  {
   "cell_type": "code",
   "execution_count": 89,
   "metadata": {},
   "outputs": [
    {
     "data": {
      "text/html": [
       "<div>\n",
       "<style scoped>\n",
       "    .dataframe tbody tr th:only-of-type {\n",
       "        vertical-align: middle;\n",
       "    }\n",
       "\n",
       "    .dataframe tbody tr th {\n",
       "        vertical-align: top;\n",
       "    }\n",
       "\n",
       "    .dataframe thead th {\n",
       "        text-align: right;\n",
       "    }\n",
       "</style>\n",
       "<table border=\"1\" class=\"dataframe\">\n",
       "  <thead>\n",
       "    <tr style=\"text-align: right;\">\n",
       "      <th></th>\n",
       "      <th>구분</th>\n",
       "      <th>Batch No</th>\n",
       "      <th>회수율</th>\n",
       "      <th>종료일시</th>\n",
       "      <th>준비시간</th>\n",
       "      <th>작업시간</th>\n",
       "      <th>소요시간(UPTIME)</th>\n",
       "      <th>DATE</th>\n",
       "      <th>month</th>\n",
       "      <th>day</th>\n",
       "      <th>time</th>\n",
       "    </tr>\n",
       "    <tr>\n",
       "      <th>시작일시</th>\n",
       "      <th></th>\n",
       "      <th></th>\n",
       "      <th></th>\n",
       "      <th></th>\n",
       "      <th></th>\n",
       "      <th></th>\n",
       "      <th></th>\n",
       "      <th></th>\n",
       "      <th></th>\n",
       "      <th></th>\n",
       "      <th></th>\n",
       "    </tr>\n",
       "  </thead>\n",
       "  <tbody>\n",
       "    <tr>\n",
       "      <th>2022-12-31 17:27:25</th>\n",
       "      <td>NaN</td>\n",
       "      <td>S843331</td>\n",
       "      <td>97.21</td>\n",
       "      <td>2023-01-01 06:37:00</td>\n",
       "      <td>2.83</td>\n",
       "      <td>6.75</td>\n",
       "      <td>9.58</td>\n",
       "      <td>2023-01-01</td>\n",
       "      <td>1</td>\n",
       "      <td>1</td>\n",
       "      <td>06:27:25</td>\n",
       "    </tr>\n",
       "    <tr>\n",
       "      <th>2022-12-31 17:37:00</th>\n",
       "      <td>NaN</td>\n",
       "      <td>S843341</td>\n",
       "      <td>97.30</td>\n",
       "      <td>2023-01-01 06:46:01</td>\n",
       "      <td>2.73</td>\n",
       "      <td>6.28</td>\n",
       "      <td>9.01</td>\n",
       "      <td>2023-01-01</td>\n",
       "      <td>1</td>\n",
       "      <td>1</td>\n",
       "      <td>06:37:00</td>\n",
       "    </tr>\n",
       "    <tr>\n",
       "      <th>2022-12-31 17:46:00</th>\n",
       "      <td>NaN</td>\n",
       "      <td>S841842</td>\n",
       "      <td>97.47</td>\n",
       "      <td>2023-01-01 06:56:10</td>\n",
       "      <td>2.87</td>\n",
       "      <td>7.28</td>\n",
       "      <td>10.15</td>\n",
       "      <td>2023-01-01</td>\n",
       "      <td>1</td>\n",
       "      <td>1</td>\n",
       "      <td>06:46:00</td>\n",
       "    </tr>\n",
       "    <tr>\n",
       "      <th>2022-12-31 17:56:10</th>\n",
       "      <td>NaN</td>\n",
       "      <td>S841912</td>\n",
       "      <td>95.40</td>\n",
       "      <td>2023-01-01 07:05:21</td>\n",
       "      <td>2.73</td>\n",
       "      <td>6.45</td>\n",
       "      <td>9.18</td>\n",
       "      <td>2023-01-01</td>\n",
       "      <td>1</td>\n",
       "      <td>1</td>\n",
       "      <td>06:56:10</td>\n",
       "    </tr>\n",
       "    <tr>\n",
       "      <th>2022-12-31 18:05:21</th>\n",
       "      <td>NaN</td>\n",
       "      <td>S841911</td>\n",
       "      <td>96.90</td>\n",
       "      <td>2023-01-01 07:14:58</td>\n",
       "      <td>2.70</td>\n",
       "      <td>6.92</td>\n",
       "      <td>9.62</td>\n",
       "      <td>2023-01-01</td>\n",
       "      <td>1</td>\n",
       "      <td>1</td>\n",
       "      <td>07:05:21</td>\n",
       "    </tr>\n",
       "  </tbody>\n",
       "</table>\n",
       "</div>"
      ],
      "text/plain": [
       "                      구분 Batch No    회수율                종료일시  준비시간  작업시간  \\\n",
       "시작일시                                                                       \n",
       "2022-12-31 17:27:25  NaN  S843331  97.21 2023-01-01 06:37:00  2.83  6.75   \n",
       "2022-12-31 17:37:00  NaN  S843341  97.30 2023-01-01 06:46:01  2.73  6.28   \n",
       "2022-12-31 17:46:00  NaN  S841842  97.47 2023-01-01 06:56:10  2.87  7.28   \n",
       "2022-12-31 17:56:10  NaN  S841912  95.40 2023-01-01 07:05:21  2.73  6.45   \n",
       "2022-12-31 18:05:21  NaN  S841911  96.90 2023-01-01 07:14:58  2.70  6.92   \n",
       "\n",
       "                     소요시간(UPTIME)        DATE  month  day      time  \n",
       "시작일시                                                                 \n",
       "2022-12-31 17:27:25          9.58  2023-01-01      1    1  06:27:25  \n",
       "2022-12-31 17:37:00          9.01  2023-01-01      1    1  06:37:00  \n",
       "2022-12-31 17:46:00         10.15  2023-01-01      1    1  06:46:00  \n",
       "2022-12-31 17:56:10          9.18  2023-01-01      1    1  06:56:10  \n",
       "2022-12-31 18:05:21          9.62  2023-01-01      1    1  07:05:21  "
      ]
     },
     "execution_count": 89,
     "metadata": {},
     "output_type": "execute_result"
    }
   ],
   "source": [
    "cm3_a.head()"
   ]
  },
  {
   "cell_type": "code",
   "execution_count": 90,
   "metadata": {},
   "outputs": [],
   "source": [
    "# cm3_a.index = cm3_a.index + pd.Timedelta(hours = 6, minutes=30)"
   ]
  },
  {
   "cell_type": "code",
   "execution_count": 91,
   "metadata": {},
   "outputs": [],
   "source": [
    "cm3_소요시간 = cm3_a.resample('D')['소요시간(UPTIME)'].mean().round(2)"
   ]
  },
  {
   "cell_type": "code",
   "execution_count": 122,
   "metadata": {},
   "outputs": [],
   "source": [
    "# sns.barplot(x = cm3_소요시간.index, y = cm3_소요시간.values)\n",
    "# plt.show()"
   ]
  },
  {
   "cell_type": "code",
   "execution_count": 93,
   "metadata": {},
   "outputs": [],
   "source": [
    "cm3_d = cm3[['Batch No','시작일시', '평균 출측 온도']]"
   ]
  },
  {
   "cell_type": "code",
   "execution_count": 94,
   "metadata": {},
   "outputs": [
    {
     "data": {
      "text/plain": [
       "(30931, 3)"
      ]
     },
     "execution_count": 94,
     "metadata": {},
     "output_type": "execute_result"
    }
   ],
   "source": [
    "cm3_d.shape"
   ]
  },
  {
   "cell_type": "code",
   "execution_count": 95,
   "metadata": {},
   "outputs": [],
   "source": [
    "cm3_d.set_index(\"시작일시\",inplace = True)"
   ]
  },
  {
   "cell_type": "code",
   "execution_count": 96,
   "metadata": {},
   "outputs": [
    {
     "data": {
      "text/html": [
       "<div>\n",
       "<style scoped>\n",
       "    .dataframe tbody tr th:only-of-type {\n",
       "        vertical-align: middle;\n",
       "    }\n",
       "\n",
       "    .dataframe tbody tr th {\n",
       "        vertical-align: top;\n",
       "    }\n",
       "\n",
       "    .dataframe thead th {\n",
       "        text-align: right;\n",
       "    }\n",
       "</style>\n",
       "<table border=\"1\" class=\"dataframe\">\n",
       "  <thead>\n",
       "    <tr style=\"text-align: right;\">\n",
       "      <th></th>\n",
       "      <th>Batch No</th>\n",
       "      <th>평균 출측 온도</th>\n",
       "    </tr>\n",
       "    <tr>\n",
       "      <th>시작일시</th>\n",
       "      <th></th>\n",
       "      <th></th>\n",
       "    </tr>\n",
       "  </thead>\n",
       "  <tbody>\n",
       "    <tr>\n",
       "      <th>2023-01-01 06:27:25</th>\n",
       "      <td>S843331</td>\n",
       "      <td>142.53360</td>\n",
       "    </tr>\n",
       "    <tr>\n",
       "      <th>2023-01-01 06:37:00</th>\n",
       "      <td>S843341</td>\n",
       "      <td>142.68825</td>\n",
       "    </tr>\n",
       "    <tr>\n",
       "      <th>2023-01-01 06:46:00</th>\n",
       "      <td>S841842</td>\n",
       "      <td>142.10706</td>\n",
       "    </tr>\n",
       "    <tr>\n",
       "      <th>2023-01-01 06:56:10</th>\n",
       "      <td>S841912</td>\n",
       "      <td>146.37471</td>\n",
       "    </tr>\n",
       "    <tr>\n",
       "      <th>2023-01-01 07:05:21</th>\n",
       "      <td>S841911</td>\n",
       "      <td>147.28151</td>\n",
       "    </tr>\n",
       "    <tr>\n",
       "      <th>2023-01-01 07:14:58</th>\n",
       "      <td>S841913</td>\n",
       "      <td>147.57454</td>\n",
       "    </tr>\n",
       "    <tr>\n",
       "      <th>2023-01-01 07:24:26</th>\n",
       "      <td>S841914</td>\n",
       "      <td>146.67485</td>\n",
       "    </tr>\n",
       "    <tr>\n",
       "      <th>2023-01-01 07:33:43</th>\n",
       "      <td>S841891</td>\n",
       "      <td>147.22890</td>\n",
       "    </tr>\n",
       "    <tr>\n",
       "      <th>2023-01-01 07:43:21</th>\n",
       "      <td>S841905</td>\n",
       "      <td>145.78455</td>\n",
       "    </tr>\n",
       "    <tr>\n",
       "      <th>2023-01-01 07:52:53</th>\n",
       "      <td>S841853</td>\n",
       "      <td>145.83856</td>\n",
       "    </tr>\n",
       "  </tbody>\n",
       "</table>\n",
       "</div>"
      ],
      "text/plain": [
       "                    Batch No   평균 출측 온도\n",
       "시작일시                                   \n",
       "2023-01-01 06:27:25  S843331  142.53360\n",
       "2023-01-01 06:37:00  S843341  142.68825\n",
       "2023-01-01 06:46:00  S841842  142.10706\n",
       "2023-01-01 06:56:10  S841912  146.37471\n",
       "2023-01-01 07:05:21  S841911  147.28151\n",
       "2023-01-01 07:14:58  S841913  147.57454\n",
       "2023-01-01 07:24:26  S841914  146.67485\n",
       "2023-01-01 07:33:43  S841891  147.22890\n",
       "2023-01-01 07:43:21  S841905  145.78455\n",
       "2023-01-01 07:52:53  S841853  145.83856"
      ]
     },
     "execution_count": 96,
     "metadata": {},
     "output_type": "execute_result"
    }
   ],
   "source": [
    "cm3_d.head(10)"
   ]
  },
  {
   "cell_type": "code",
   "execution_count": 97,
   "metadata": {},
   "outputs": [],
   "source": [
    "# cm3_d.index = cm3_a.index + pd.Timedelta(hours = 6, minutes=30)"
   ]
  },
  {
   "cell_type": "code",
   "execution_count": 114,
   "metadata": {},
   "outputs": [
    {
     "data": {
      "text/html": [
       "<div>\n",
       "<style scoped>\n",
       "    .dataframe tbody tr th:only-of-type {\n",
       "        vertical-align: middle;\n",
       "    }\n",
       "\n",
       "    .dataframe tbody tr th {\n",
       "        vertical-align: top;\n",
       "    }\n",
       "\n",
       "    .dataframe thead th {\n",
       "        text-align: right;\n",
       "    }\n",
       "</style>\n",
       "<table border=\"1\" class=\"dataframe\">\n",
       "  <thead>\n",
       "    <tr style=\"text-align: right;\">\n",
       "      <th></th>\n",
       "      <th>Batch No</th>\n",
       "      <th>평균 출측 온도</th>\n",
       "      <th>day</th>\n",
       "    </tr>\n",
       "    <tr>\n",
       "      <th>시작일시</th>\n",
       "      <th></th>\n",
       "      <th></th>\n",
       "      <th></th>\n",
       "    </tr>\n",
       "  </thead>\n",
       "  <tbody>\n",
       "    <tr>\n",
       "      <th>2023-01-01 06:27:25</th>\n",
       "      <td>S843331</td>\n",
       "      <td>147.67</td>\n",
       "      <td>1</td>\n",
       "    </tr>\n",
       "    <tr>\n",
       "      <th>2023-01-01 06:37:00</th>\n",
       "      <td>S843341</td>\n",
       "      <td>147.67</td>\n",
       "      <td>1</td>\n",
       "    </tr>\n",
       "    <tr>\n",
       "      <th>2023-01-01 06:46:00</th>\n",
       "      <td>S841842</td>\n",
       "      <td>147.67</td>\n",
       "      <td>1</td>\n",
       "    </tr>\n",
       "    <tr>\n",
       "      <th>2023-01-01 06:56:10</th>\n",
       "      <td>S841912</td>\n",
       "      <td>147.67</td>\n",
       "      <td>1</td>\n",
       "    </tr>\n",
       "    <tr>\n",
       "      <th>2023-01-01 07:05:21</th>\n",
       "      <td>S841911</td>\n",
       "      <td>147.67</td>\n",
       "      <td>1</td>\n",
       "    </tr>\n",
       "  </tbody>\n",
       "</table>\n",
       "</div>"
      ],
      "text/plain": [
       "                    Batch No  평균 출측 온도  day\n",
       "시작일시                                       \n",
       "2023-01-01 06:27:25  S843331    147.67    1\n",
       "2023-01-01 06:37:00  S843341    147.67    1\n",
       "2023-01-01 06:46:00  S841842    147.67    1\n",
       "2023-01-01 06:56:10  S841912    147.67    1\n",
       "2023-01-01 07:05:21  S841911    147.67    1"
      ]
     },
     "execution_count": 114,
     "metadata": {},
     "output_type": "execute_result"
    }
   ],
   "source": [
    "cm3_d['day'] = cm3_d.index.day\n",
    "cm3_d.head()\n"
   ]
  },
  {
   "cell_type": "code",
   "execution_count": 119,
   "metadata": {},
   "outputs": [
    {
     "data": {
      "text/html": [
       "<div>\n",
       "<style scoped>\n",
       "    .dataframe tbody tr th:only-of-type {\n",
       "        vertical-align: middle;\n",
       "    }\n",
       "\n",
       "    .dataframe tbody tr th {\n",
       "        vertical-align: top;\n",
       "    }\n",
       "\n",
       "    .dataframe thead th {\n",
       "        text-align: right;\n",
       "    }\n",
       "</style>\n",
       "<table border=\"1\" class=\"dataframe\">\n",
       "  <thead>\n",
       "    <tr style=\"text-align: right;\">\n",
       "      <th></th>\n",
       "      <th>Batch No</th>\n",
       "      <th>평균 출측 온도</th>\n",
       "      <th>day</th>\n",
       "      <th>avg. exit temp</th>\n",
       "    </tr>\n",
       "    <tr>\n",
       "      <th>시작일시</th>\n",
       "      <th></th>\n",
       "      <th></th>\n",
       "      <th></th>\n",
       "      <th></th>\n",
       "    </tr>\n",
       "  </thead>\n",
       "  <tbody>\n",
       "    <tr>\n",
       "      <th>2023-01-01 06:27:25</th>\n",
       "      <td>S843331</td>\n",
       "      <td>147.67</td>\n",
       "      <td>1</td>\n",
       "      <td>147.67</td>\n",
       "    </tr>\n",
       "    <tr>\n",
       "      <th>2023-01-01 06:37:00</th>\n",
       "      <td>S843341</td>\n",
       "      <td>147.67</td>\n",
       "      <td>1</td>\n",
       "      <td>147.67</td>\n",
       "    </tr>\n",
       "    <tr>\n",
       "      <th>2023-01-01 06:46:00</th>\n",
       "      <td>S841842</td>\n",
       "      <td>147.67</td>\n",
       "      <td>1</td>\n",
       "      <td>147.67</td>\n",
       "    </tr>\n",
       "    <tr>\n",
       "      <th>2023-01-01 06:56:10</th>\n",
       "      <td>S841912</td>\n",
       "      <td>147.67</td>\n",
       "      <td>1</td>\n",
       "      <td>147.67</td>\n",
       "    </tr>\n",
       "    <tr>\n",
       "      <th>2023-01-01 07:05:21</th>\n",
       "      <td>S841911</td>\n",
       "      <td>147.67</td>\n",
       "      <td>1</td>\n",
       "      <td>147.67</td>\n",
       "    </tr>\n",
       "    <tr>\n",
       "      <th>...</th>\n",
       "      <td>...</td>\n",
       "      <td>...</td>\n",
       "      <td>...</td>\n",
       "      <td>...</td>\n",
       "    </tr>\n",
       "    <tr>\n",
       "      <th>2023-08-25 08:44:32</th>\n",
       "      <td>NaN</td>\n",
       "      <td>147.67</td>\n",
       "      <td>25</td>\n",
       "      <td>147.67</td>\n",
       "    </tr>\n",
       "    <tr>\n",
       "      <th>2023-08-25 08:51:00</th>\n",
       "      <td>NaN</td>\n",
       "      <td>147.67</td>\n",
       "      <td>25</td>\n",
       "      <td>147.67</td>\n",
       "    </tr>\n",
       "    <tr>\n",
       "      <th>2023-08-25 13:47:00</th>\n",
       "      <td>NaN</td>\n",
       "      <td>147.67</td>\n",
       "      <td>25</td>\n",
       "      <td>147.67</td>\n",
       "    </tr>\n",
       "    <tr>\n",
       "      <th>2023-08-25 13:51:40</th>\n",
       "      <td>S957406</td>\n",
       "      <td>147.67</td>\n",
       "      <td>25</td>\n",
       "      <td>147.67</td>\n",
       "    </tr>\n",
       "    <tr>\n",
       "      <th>2023-08-25 14:09:55</th>\n",
       "      <td>S957317</td>\n",
       "      <td>147.67</td>\n",
       "      <td>25</td>\n",
       "      <td>147.67</td>\n",
       "    </tr>\n",
       "  </tbody>\n",
       "</table>\n",
       "<p>30931 rows × 4 columns</p>\n",
       "</div>"
      ],
      "text/plain": [
       "                    Batch No  평균 출측 온도  day  avg. exit temp\n",
       "시작일시                                                       \n",
       "2023-01-01 06:27:25  S843331    147.67    1          147.67\n",
       "2023-01-01 06:37:00  S843341    147.67    1          147.67\n",
       "2023-01-01 06:46:00  S841842    147.67    1          147.67\n",
       "2023-01-01 06:56:10  S841912    147.67    1          147.67\n",
       "2023-01-01 07:05:21  S841911    147.67    1          147.67\n",
       "...                      ...       ...  ...             ...\n",
       "2023-08-25 08:44:32      NaN    147.67   25          147.67\n",
       "2023-08-25 08:51:00      NaN    147.67   25          147.67\n",
       "2023-08-25 13:47:00      NaN    147.67   25          147.67\n",
       "2023-08-25 13:51:40  S957406    147.67   25          147.67\n",
       "2023-08-25 14:09:55  S957317    147.67   25          147.67\n",
       "\n",
       "[30931 rows x 4 columns]"
      ]
     },
     "execution_count": 119,
     "metadata": {},
     "output_type": "execute_result"
    }
   ],
   "source": [
    "cm3_d['avg. exit temp'] = cm3_d['평균 출측 온도'].mean().round(2)\n",
    "cm3_d"
   ]
  },
  {
   "cell_type": "code",
   "execution_count": 120,
   "metadata": {},
   "outputs": [
    {
     "data": {
      "text/html": [
       "<div>\n",
       "<style scoped>\n",
       "    .dataframe tbody tr th:only-of-type {\n",
       "        vertical-align: middle;\n",
       "    }\n",
       "\n",
       "    .dataframe tbody tr th {\n",
       "        vertical-align: top;\n",
       "    }\n",
       "\n",
       "    .dataframe thead th {\n",
       "        text-align: right;\n",
       "    }\n",
       "</style>\n",
       "<table border=\"1\" class=\"dataframe\">\n",
       "  <thead>\n",
       "    <tr style=\"text-align: right;\">\n",
       "      <th></th>\n",
       "      <th>Batch No</th>\n",
       "      <th>day</th>\n",
       "      <th>avg. exit temp</th>\n",
       "    </tr>\n",
       "    <tr>\n",
       "      <th>시작일시</th>\n",
       "      <th></th>\n",
       "      <th></th>\n",
       "      <th></th>\n",
       "    </tr>\n",
       "  </thead>\n",
       "  <tbody>\n",
       "    <tr>\n",
       "      <th>2023-01-01 06:27:25</th>\n",
       "      <td>S843331</td>\n",
       "      <td>1</td>\n",
       "      <td>147.67</td>\n",
       "    </tr>\n",
       "    <tr>\n",
       "      <th>2023-01-01 06:37:00</th>\n",
       "      <td>S843341</td>\n",
       "      <td>1</td>\n",
       "      <td>147.67</td>\n",
       "    </tr>\n",
       "    <tr>\n",
       "      <th>2023-01-01 06:46:00</th>\n",
       "      <td>S841842</td>\n",
       "      <td>1</td>\n",
       "      <td>147.67</td>\n",
       "    </tr>\n",
       "    <tr>\n",
       "      <th>2023-01-01 06:56:10</th>\n",
       "      <td>S841912</td>\n",
       "      <td>1</td>\n",
       "      <td>147.67</td>\n",
       "    </tr>\n",
       "    <tr>\n",
       "      <th>2023-01-01 07:05:21</th>\n",
       "      <td>S841911</td>\n",
       "      <td>1</td>\n",
       "      <td>147.67</td>\n",
       "    </tr>\n",
       "    <tr>\n",
       "      <th>...</th>\n",
       "      <td>...</td>\n",
       "      <td>...</td>\n",
       "      <td>...</td>\n",
       "    </tr>\n",
       "    <tr>\n",
       "      <th>2023-08-25 08:44:32</th>\n",
       "      <td>NaN</td>\n",
       "      <td>25</td>\n",
       "      <td>147.67</td>\n",
       "    </tr>\n",
       "    <tr>\n",
       "      <th>2023-08-25 08:51:00</th>\n",
       "      <td>NaN</td>\n",
       "      <td>25</td>\n",
       "      <td>147.67</td>\n",
       "    </tr>\n",
       "    <tr>\n",
       "      <th>2023-08-25 13:47:00</th>\n",
       "      <td>NaN</td>\n",
       "      <td>25</td>\n",
       "      <td>147.67</td>\n",
       "    </tr>\n",
       "    <tr>\n",
       "      <th>2023-08-25 13:51:40</th>\n",
       "      <td>S957406</td>\n",
       "      <td>25</td>\n",
       "      <td>147.67</td>\n",
       "    </tr>\n",
       "    <tr>\n",
       "      <th>2023-08-25 14:09:55</th>\n",
       "      <td>S957317</td>\n",
       "      <td>25</td>\n",
       "      <td>147.67</td>\n",
       "    </tr>\n",
       "  </tbody>\n",
       "</table>\n",
       "<p>30931 rows × 3 columns</p>\n",
       "</div>"
      ],
      "text/plain": [
       "                    Batch No  day  avg. exit temp\n",
       "시작일시                                             \n",
       "2023-01-01 06:27:25  S843331    1          147.67\n",
       "2023-01-01 06:37:00  S843341    1          147.67\n",
       "2023-01-01 06:46:00  S841842    1          147.67\n",
       "2023-01-01 06:56:10  S841912    1          147.67\n",
       "2023-01-01 07:05:21  S841911    1          147.67\n",
       "...                      ...  ...             ...\n",
       "2023-08-25 08:44:32      NaN   25          147.67\n",
       "2023-08-25 08:51:00      NaN   25          147.67\n",
       "2023-08-25 13:47:00      NaN   25          147.67\n",
       "2023-08-25 13:51:40  S957406   25          147.67\n",
       "2023-08-25 14:09:55  S957317   25          147.67\n",
       "\n",
       "[30931 rows x 3 columns]"
      ]
     },
     "execution_count": 120,
     "metadata": {},
     "output_type": "execute_result"
    }
   ],
   "source": [
    "# 하나의 열 삭제하기 \n",
    "del cm3_d[\"평균 출측 온도\"]\n",
    "cm3_d"
   ]
  },
  {
   "cell_type": "code",
   "execution_count": 121,
   "metadata": {},
   "outputs": [],
   "source": [
    "# Trend graph 그리기\n",
    "\n",
    "# sns.barplot(x = cm3_d[\"day\"], \n",
    "#             y = cm3_d[\"평균 출측 온도\"])\n",
    "# plt.title('Avg. Exit temperature of CM3')\n",
    "# plt.xlabel('Date', fontsize = 10)\n",
    "# plt.ylabel('Avg. Exit temperature of strip', fontsize=10)\n",
    "# plt.xticks(rotation = 80, fontsize = 10)\n",
    "# sns.color_palette(\"flare\")\n",
    "# plt.show()"
   ]
  },
  {
   "cell_type": "code",
   "execution_count": null,
   "metadata": {},
   "outputs": [],
   "source": []
  }
 ],
 "metadata": {
  "kernelspec": {
   "display_name": "Python 3",
   "language": "python",
   "name": "python3"
  },
  "language_info": {
   "codemirror_mode": {
    "name": "ipython",
    "version": 3
   },
   "file_extension": ".py",
   "mimetype": "text/x-python",
   "name": "python",
   "nbconvert_exporter": "python",
   "pygments_lexer": "ipython3",
   "version": "3.11.4"
  },
  "orig_nbformat": 4
 },
 "nbformat": 4,
 "nbformat_minor": 2
}
