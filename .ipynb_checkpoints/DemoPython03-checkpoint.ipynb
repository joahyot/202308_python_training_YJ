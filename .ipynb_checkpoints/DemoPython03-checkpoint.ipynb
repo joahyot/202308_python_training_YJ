{
 "cells": [
  {
   "cell_type": "markdown",
   "id": "89bbc8e7",
   "metadata": {},
   "source": [
    "<img src=\"logo.jfif\" alt = \"Novelis Korea\" />"
   ]
  },
  {
   "cell_type": "code",
   "execution_count": 1,
   "id": "1adff3f5",
   "metadata": {},
   "outputs": [],
   "source": [
    "# <img src = \"novelis.jifi\" alt = \"Novelis Korea\""
   ]
  },
  {
   "cell_type": "markdown",
   "id": "0415bfab",
   "metadata": {},
   "source": [
    "## 탐색적 데이터 분석 (EDA)"
   ]
  },
  {
   "cell_type": "code",
   "execution_count": 2,
   "id": "c17df560",
   "metadata": {},
   "outputs": [],
   "source": [
    "# EDA : Exploratory Data Analysis"
   ]
  },
  {
   "cell_type": "code",
   "execution_count": 3,
   "id": "39cca4c9",
   "metadata": {},
   "outputs": [],
   "source": [
    "# 데이터가 스스로 말하게 하자!!!"
   ]
  },
  {
   "cell_type": "code",
   "execution_count": 4,
   "id": "b8c89051",
   "metadata": {},
   "outputs": [],
   "source": [
    "# 데이터의 종류 : 통계적인 관점\n",
    " \n",
    "# (1) 범주형 데이터(Categorical Data): 질적 자료\n",
    "#     문자, 숫자(숫자의 의미가 없음)\n",
    "#     i.  명목형 데이터(Nominal Data) : 범주의 순서가 의미가 없음\n",
    "#     ii. 순서형 데이터(Ordinary Data) : 범주의 순서가 의미가 있음\n",
    "\n",
    "# (2) 수치형 데이터(Numerical Data): 양적 자료\n",
    "#     숫자(숫자의 의미가 있음)\n",
    "#     i.  이산형 데이터(Descrete Data)  : 소수점이 의미 없음\n",
    "#     ii. 연속형 데이터(Continuos Data) : 소수점이 의미 있음"
   ]
  },
  {
   "cell_type": "code",
   "execution_count": 79,
   "id": "ea4f2774",
   "metadata": {},
   "outputs": [],
   "source": [
    "# 패키지 로딩하기 \n",
    "import pandas as pd             # 데이터 읽어오기, 저장하기, 데이터 핸들링, 데이터 분석\n",
    "import numpy as np              # 수학, 선형대수학\n",
    "import seaborn as sns           # 데이터 시각화 (고수준)\n",
    "import matplotlib.pyplot as plt # 데이터 시각화(저수준)\n",
    "import scipy.stats as stats     # 과학, 통계"
   ]
  },
  {
   "cell_type": "code",
   "execution_count": 8,
   "id": "1cee8320",
   "metadata": {},
   "outputs": [
    {
     "data": {
      "text/html": [
       "<div>\n",
       "<style scoped>\n",
       "    .dataframe tbody tr th:only-of-type {\n",
       "        vertical-align: middle;\n",
       "    }\n",
       "\n",
       "    .dataframe tbody tr th {\n",
       "        vertical-align: top;\n",
       "    }\n",
       "\n",
       "    .dataframe thead th {\n",
       "        text-align: right;\n",
       "    }\n",
       "</style>\n",
       "<table border=\"1\" class=\"dataframe\">\n",
       "  <thead>\n",
       "    <tr style=\"text-align: right;\">\n",
       "      <th></th>\n",
       "      <th>carat</th>\n",
       "      <th>cut</th>\n",
       "      <th>color</th>\n",
       "      <th>clarity</th>\n",
       "      <th>depth</th>\n",
       "      <th>table</th>\n",
       "      <th>price</th>\n",
       "      <th>x</th>\n",
       "      <th>y</th>\n",
       "      <th>z</th>\n",
       "    </tr>\n",
       "  </thead>\n",
       "  <tbody>\n",
       "    <tr>\n",
       "      <th>0</th>\n",
       "      <td>0.23</td>\n",
       "      <td>Ideal</td>\n",
       "      <td>E</td>\n",
       "      <td>SI2</td>\n",
       "      <td>61.5</td>\n",
       "      <td>55.0</td>\n",
       "      <td>326</td>\n",
       "      <td>3.95</td>\n",
       "      <td>3.98</td>\n",
       "      <td>2.43</td>\n",
       "    </tr>\n",
       "    <tr>\n",
       "      <th>1</th>\n",
       "      <td>0.21</td>\n",
       "      <td>Premium</td>\n",
       "      <td>E</td>\n",
       "      <td>SI1</td>\n",
       "      <td>59.8</td>\n",
       "      <td>61.0</td>\n",
       "      <td>326</td>\n",
       "      <td>3.89</td>\n",
       "      <td>3.84</td>\n",
       "      <td>2.31</td>\n",
       "    </tr>\n",
       "    <tr>\n",
       "      <th>2</th>\n",
       "      <td>0.23</td>\n",
       "      <td>Good</td>\n",
       "      <td>E</td>\n",
       "      <td>VS1</td>\n",
       "      <td>56.9</td>\n",
       "      <td>65.0</td>\n",
       "      <td>327</td>\n",
       "      <td>4.05</td>\n",
       "      <td>4.07</td>\n",
       "      <td>2.31</td>\n",
       "    </tr>\n",
       "    <tr>\n",
       "      <th>3</th>\n",
       "      <td>0.29</td>\n",
       "      <td>Premium</td>\n",
       "      <td>I</td>\n",
       "      <td>VS2</td>\n",
       "      <td>62.4</td>\n",
       "      <td>58.0</td>\n",
       "      <td>334</td>\n",
       "      <td>4.20</td>\n",
       "      <td>4.23</td>\n",
       "      <td>2.63</td>\n",
       "    </tr>\n",
       "    <tr>\n",
       "      <th>4</th>\n",
       "      <td>0.31</td>\n",
       "      <td>Good</td>\n",
       "      <td>J</td>\n",
       "      <td>SI2</td>\n",
       "      <td>63.3</td>\n",
       "      <td>58.0</td>\n",
       "      <td>335</td>\n",
       "      <td>4.34</td>\n",
       "      <td>4.35</td>\n",
       "      <td>2.75</td>\n",
       "    </tr>\n",
       "  </tbody>\n",
       "</table>\n",
       "</div>"
      ],
      "text/plain": [
       "   carat      cut color clarity  depth  table  price     x     y     z\n",
       "0   0.23    Ideal     E     SI2   61.5   55.0    326  3.95  3.98  2.43\n",
       "1   0.21  Premium     E     SI1   59.8   61.0    326  3.89  3.84  2.31\n",
       "2   0.23     Good     E     VS1   56.9   65.0    327  4.05  4.07  2.31\n",
       "3   0.29  Premium     I     VS2   62.4   58.0    334  4.20  4.23  2.63\n",
       "4   0.31     Good     J     SI2   63.3   58.0    335  4.34  4.35  2.75"
      ]
     },
     "execution_count": 8,
     "metadata": {},
     "output_type": "execute_result"
    }
   ],
   "source": [
    "# 예제 데이터 : seaborn 패키지에서 제공하는 diamonds\n",
    "diamonds = sns.load_dataset(\"diamonds\")\n",
    "diamonds.head()"
   ]
  },
  {
   "cell_type": "code",
   "execution_count": 9,
   "id": "701cee6a",
   "metadata": {},
   "outputs": [],
   "source": [
    "# 범주형 데이터 : cut(품질), color, clarity(투명도)\n",
    "# 수치형 데이터 : carat(무게), depth, table, price, x, y, z"
   ]
  },
  {
   "cell_type": "code",
   "execution_count": 10,
   "id": "5843d3cd",
   "metadata": {},
   "outputs": [],
   "source": [
    "# 메타 데이터 생성 = 설명 데이터 생성\n",
    "# carat : 다이아몬드의 무게 : 0.2 ~ 5.01 \n",
    "# cut : 다이아몬드의 품질 : 5개의 범주, Fair, Good, Very Good, Premium, Ideal\n",
    "# ..."
   ]
  },
  {
   "cell_type": "markdown",
   "id": "07577ffe",
   "metadata": {},
   "source": [
    "### 1. 범주형 데이터의 분석 : 1개의 열\n",
    "- 표 = 빈도표\n",
    "- 데이터 시각화 : 막대그래프, 원그래프"
   ]
  },
  {
   "cell_type": "code",
   "execution_count": 11,
   "id": "c40a1d7b",
   "metadata": {},
   "outputs": [],
   "source": [
    "# 1.1 표(Table) = 빈도표(Frequency Table)\n",
    "# 빈도(Frequency), 백분율(Percent) "
   ]
  },
  {
   "cell_type": "code",
   "execution_count": 12,
   "id": "3914b6b9",
   "metadata": {},
   "outputs": [],
   "source": [
    "# (1) 빈도\n",
    "# data[\"범주형데이터\"].value_counts()\n",
    "# data.범주형데이터.value_counts()"
   ]
  },
  {
   "cell_type": "code",
   "execution_count": 13,
   "id": "30bf7a6b",
   "metadata": {},
   "outputs": [
    {
     "data": {
      "text/plain": [
       "cut\n",
       "Ideal        21551\n",
       "Premium      13791\n",
       "Very Good    12082\n",
       "Good          4906\n",
       "Fair          1610\n",
       "Name: count, dtype: int64"
      ]
     },
     "execution_count": 13,
     "metadata": {},
     "output_type": "execute_result"
    }
   ],
   "source": [
    "diamonds.cut.value_counts()"
   ]
  },
  {
   "cell_type": "code",
   "execution_count": 25,
   "id": "b1454277",
   "metadata": {},
   "outputs": [
    {
     "data": {
      "text/plain": [
       "cut\n",
       "Ideal        40.0\n",
       "Premium      25.6\n",
       "Very Good    22.4\n",
       "Good          9.1\n",
       "Fair          3.0\n",
       "Name: proportion, dtype: float64"
      ]
     },
     "execution_count": 25,
     "metadata": {},
     "output_type": "execute_result"
    }
   ],
   "source": [
    "# (2) 백분율(Percent) : (빈도/합계)*100\n",
    "# data[\"범주형데이터\"].value_counts(normalize = True) *!00\n",
    "# data.범주형데이터.value_counts(normalize = True) *100\n",
    "\n",
    "# diamonds.cut.value_counts(normalize=True)*100\n",
    "round( diamonds.cut.value_counts(normalize=True)*100, ndigits = 1)"
   ]
  },
  {
   "cell_type": "code",
   "execution_count": null,
   "id": "df753677",
   "metadata": {},
   "outputs": [],
   "source": []
  },
  {
   "cell_type": "code",
   "execution_count": null,
   "id": "ba61025a",
   "metadata": {},
   "outputs": [],
   "source": []
  },
  {
   "cell_type": "code",
   "execution_count": 15,
   "id": "431f80b6",
   "metadata": {},
   "outputs": [
    {
     "data": {
      "text/html": [
       "<div>\n",
       "<style scoped>\n",
       "    .dataframe tbody tr th:only-of-type {\n",
       "        vertical-align: middle;\n",
       "    }\n",
       "\n",
       "    .dataframe tbody tr th {\n",
       "        vertical-align: top;\n",
       "    }\n",
       "\n",
       "    .dataframe thead th {\n",
       "        text-align: right;\n",
       "    }\n",
       "</style>\n",
       "<table border=\"1\" class=\"dataframe\">\n",
       "  <thead>\n",
       "    <tr style=\"text-align: right;\">\n",
       "      <th></th>\n",
       "      <th>carat</th>\n",
       "      <th>cut</th>\n",
       "      <th>color</th>\n",
       "      <th>clarity</th>\n",
       "      <th>depth</th>\n",
       "      <th>table</th>\n",
       "      <th>price</th>\n",
       "      <th>x</th>\n",
       "      <th>y</th>\n",
       "      <th>z</th>\n",
       "    </tr>\n",
       "  </thead>\n",
       "  <tbody>\n",
       "    <tr>\n",
       "      <th>0</th>\n",
       "      <td>0.23</td>\n",
       "      <td>Ideal</td>\n",
       "      <td>E</td>\n",
       "      <td>SI2</td>\n",
       "      <td>61.5</td>\n",
       "      <td>55.0</td>\n",
       "      <td>326</td>\n",
       "      <td>3.95</td>\n",
       "      <td>3.98</td>\n",
       "      <td>2.43</td>\n",
       "    </tr>\n",
       "    <tr>\n",
       "      <th>1</th>\n",
       "      <td>0.21</td>\n",
       "      <td>Premium</td>\n",
       "      <td>E</td>\n",
       "      <td>SI1</td>\n",
       "      <td>59.8</td>\n",
       "      <td>61.0</td>\n",
       "      <td>326</td>\n",
       "      <td>3.89</td>\n",
       "      <td>3.84</td>\n",
       "      <td>2.31</td>\n",
       "    </tr>\n",
       "    <tr>\n",
       "      <th>2</th>\n",
       "      <td>0.23</td>\n",
       "      <td>Good</td>\n",
       "      <td>E</td>\n",
       "      <td>VS1</td>\n",
       "      <td>56.9</td>\n",
       "      <td>65.0</td>\n",
       "      <td>327</td>\n",
       "      <td>4.05</td>\n",
       "      <td>4.07</td>\n",
       "      <td>2.31</td>\n",
       "    </tr>\n",
       "    <tr>\n",
       "      <th>8</th>\n",
       "      <td>0.22</td>\n",
       "      <td>Fair</td>\n",
       "      <td>E</td>\n",
       "      <td>VS2</td>\n",
       "      <td>65.1</td>\n",
       "      <td>61.0</td>\n",
       "      <td>337</td>\n",
       "      <td>3.87</td>\n",
       "      <td>3.78</td>\n",
       "      <td>2.49</td>\n",
       "    </tr>\n",
       "    <tr>\n",
       "      <th>14</th>\n",
       "      <td>0.20</td>\n",
       "      <td>Premium</td>\n",
       "      <td>E</td>\n",
       "      <td>SI2</td>\n",
       "      <td>60.2</td>\n",
       "      <td>62.0</td>\n",
       "      <td>345</td>\n",
       "      <td>3.79</td>\n",
       "      <td>3.75</td>\n",
       "      <td>2.27</td>\n",
       "    </tr>\n",
       "    <tr>\n",
       "      <th>...</th>\n",
       "      <td>...</td>\n",
       "      <td>...</td>\n",
       "      <td>...</td>\n",
       "      <td>...</td>\n",
       "      <td>...</td>\n",
       "      <td>...</td>\n",
       "      <td>...</td>\n",
       "      <td>...</td>\n",
       "      <td>...</td>\n",
       "      <td>...</td>\n",
       "    </tr>\n",
       "    <tr>\n",
       "      <th>53926</th>\n",
       "      <td>0.71</td>\n",
       "      <td>Ideal</td>\n",
       "      <td>E</td>\n",
       "      <td>SI1</td>\n",
       "      <td>61.9</td>\n",
       "      <td>56.0</td>\n",
       "      <td>2756</td>\n",
       "      <td>5.71</td>\n",
       "      <td>5.73</td>\n",
       "      <td>3.54</td>\n",
       "    </tr>\n",
       "    <tr>\n",
       "      <th>53928</th>\n",
       "      <td>0.79</td>\n",
       "      <td>Premium</td>\n",
       "      <td>E</td>\n",
       "      <td>SI2</td>\n",
       "      <td>61.4</td>\n",
       "      <td>58.0</td>\n",
       "      <td>2756</td>\n",
       "      <td>6.03</td>\n",
       "      <td>5.96</td>\n",
       "      <td>3.68</td>\n",
       "    </tr>\n",
       "    <tr>\n",
       "      <th>53930</th>\n",
       "      <td>0.71</td>\n",
       "      <td>Premium</td>\n",
       "      <td>E</td>\n",
       "      <td>SI1</td>\n",
       "      <td>60.5</td>\n",
       "      <td>55.0</td>\n",
       "      <td>2756</td>\n",
       "      <td>5.79</td>\n",
       "      <td>5.74</td>\n",
       "      <td>3.49</td>\n",
       "    </tr>\n",
       "    <tr>\n",
       "      <th>53932</th>\n",
       "      <td>0.70</td>\n",
       "      <td>Very Good</td>\n",
       "      <td>E</td>\n",
       "      <td>VS2</td>\n",
       "      <td>60.5</td>\n",
       "      <td>59.0</td>\n",
       "      <td>2757</td>\n",
       "      <td>5.71</td>\n",
       "      <td>5.76</td>\n",
       "      <td>3.47</td>\n",
       "    </tr>\n",
       "    <tr>\n",
       "      <th>53933</th>\n",
       "      <td>0.70</td>\n",
       "      <td>Very Good</td>\n",
       "      <td>E</td>\n",
       "      <td>VS2</td>\n",
       "      <td>61.2</td>\n",
       "      <td>59.0</td>\n",
       "      <td>2757</td>\n",
       "      <td>5.69</td>\n",
       "      <td>5.72</td>\n",
       "      <td>3.49</td>\n",
       "    </tr>\n",
       "  </tbody>\n",
       "</table>\n",
       "<p>9797 rows × 10 columns</p>\n",
       "</div>"
      ],
      "text/plain": [
       "       carat        cut color clarity  depth  table  price     x     y     z\n",
       "0       0.23      Ideal     E     SI2   61.5   55.0    326  3.95  3.98  2.43\n",
       "1       0.21    Premium     E     SI1   59.8   61.0    326  3.89  3.84  2.31\n",
       "2       0.23       Good     E     VS1   56.9   65.0    327  4.05  4.07  2.31\n",
       "8       0.22       Fair     E     VS2   65.1   61.0    337  3.87  3.78  2.49\n",
       "14      0.20    Premium     E     SI2   60.2   62.0    345  3.79  3.75  2.27\n",
       "...      ...        ...   ...     ...    ...    ...    ...   ...   ...   ...\n",
       "53926   0.71      Ideal     E     SI1   61.9   56.0   2756  5.71  5.73  3.54\n",
       "53928   0.79    Premium     E     SI2   61.4   58.0   2756  6.03  5.96  3.68\n",
       "53930   0.71    Premium     E     SI1   60.5   55.0   2756  5.79  5.74  3.49\n",
       "53932   0.70  Very Good     E     VS2   60.5   59.0   2757  5.71  5.76  3.47\n",
       "53933   0.70  Very Good     E     VS2   61.2   59.0   2757  5.69  5.72  3.49\n",
       "\n",
       "[9797 rows x 10 columns]"
      ]
     },
     "execution_count": 15,
     "metadata": {},
     "output_type": "execute_result"
    }
   ],
   "source": [
    "df1 = diamonds.loc[diamonds.color ==\"E\", :]\n",
    "df1"
   ]
  },
  {
   "cell_type": "code",
   "execution_count": 16,
   "id": "ce3555a6",
   "metadata": {},
   "outputs": [],
   "source": [
    "df2 = diamonds.loc[diamonds.cut == \"Ideal\", [\"cut\", \"color\"]]"
   ]
  },
  {
   "cell_type": "code",
   "execution_count": 17,
   "id": "4accf059",
   "metadata": {},
   "outputs": [
    {
     "data": {
      "text/html": [
       "<div>\n",
       "<style scoped>\n",
       "    .dataframe tbody tr th:only-of-type {\n",
       "        vertical-align: middle;\n",
       "    }\n",
       "\n",
       "    .dataframe tbody tr th {\n",
       "        vertical-align: top;\n",
       "    }\n",
       "\n",
       "    .dataframe thead th {\n",
       "        text-align: right;\n",
       "    }\n",
       "</style>\n",
       "<table border=\"1\" class=\"dataframe\">\n",
       "  <thead>\n",
       "    <tr style=\"text-align: right;\">\n",
       "      <th></th>\n",
       "      <th>cut</th>\n",
       "      <th>color</th>\n",
       "    </tr>\n",
       "  </thead>\n",
       "  <tbody>\n",
       "    <tr>\n",
       "      <th>0</th>\n",
       "      <td>Ideal</td>\n",
       "      <td>E</td>\n",
       "    </tr>\n",
       "    <tr>\n",
       "      <th>11</th>\n",
       "      <td>Ideal</td>\n",
       "      <td>J</td>\n",
       "    </tr>\n",
       "    <tr>\n",
       "      <th>13</th>\n",
       "      <td>Ideal</td>\n",
       "      <td>J</td>\n",
       "    </tr>\n",
       "    <tr>\n",
       "      <th>16</th>\n",
       "      <td>Ideal</td>\n",
       "      <td>I</td>\n",
       "    </tr>\n",
       "    <tr>\n",
       "      <th>39</th>\n",
       "      <td>Ideal</td>\n",
       "      <td>I</td>\n",
       "    </tr>\n",
       "    <tr>\n",
       "      <th>...</th>\n",
       "      <td>...</td>\n",
       "      <td>...</td>\n",
       "    </tr>\n",
       "    <tr>\n",
       "      <th>53925</th>\n",
       "      <td>Ideal</td>\n",
       "      <td>I</td>\n",
       "    </tr>\n",
       "    <tr>\n",
       "      <th>53926</th>\n",
       "      <td>Ideal</td>\n",
       "      <td>E</td>\n",
       "    </tr>\n",
       "    <tr>\n",
       "      <th>53929</th>\n",
       "      <td>Ideal</td>\n",
       "      <td>G</td>\n",
       "    </tr>\n",
       "    <tr>\n",
       "      <th>53935</th>\n",
       "      <td>Ideal</td>\n",
       "      <td>D</td>\n",
       "    </tr>\n",
       "    <tr>\n",
       "      <th>53939</th>\n",
       "      <td>Ideal</td>\n",
       "      <td>D</td>\n",
       "    </tr>\n",
       "  </tbody>\n",
       "</table>\n",
       "<p>21551 rows × 2 columns</p>\n",
       "</div>"
      ],
      "text/plain": [
       "         cut color\n",
       "0      Ideal     E\n",
       "11     Ideal     J\n",
       "13     Ideal     J\n",
       "16     Ideal     I\n",
       "39     Ideal     I\n",
       "...      ...   ...\n",
       "53925  Ideal     I\n",
       "53926  Ideal     E\n",
       "53929  Ideal     G\n",
       "53935  Ideal     D\n",
       "53939  Ideal     D\n",
       "\n",
       "[21551 rows x 2 columns]"
      ]
     },
     "execution_count": 17,
     "metadata": {},
     "output_type": "execute_result"
    }
   ],
   "source": [
    "df2"
   ]
  },
  {
   "cell_type": "code",
   "execution_count": 26,
   "id": "cda53064",
   "metadata": {},
   "outputs": [],
   "source": [
    "# 1.2 데이터 시각화 : 막대 그래프\n",
    "# seaborn.barplot(x = 범주의 이름, y =  범주의 빈도 또는 백분율)"
   ]
  },
  {
   "cell_type": "code",
   "execution_count": 36,
   "id": "1a314ad5",
   "metadata": {},
   "outputs": [
    {
     "data": {
      "image/png": "[encoded data removed]",
      "text/plain": [
       "<Figure size 640x480 with 1 Axes>"
      ]
     },
     "metadata": {},
     "output_type": "display_data"
    }
   ],
   "source": [
    "result = diamonds.cut.value_counts()\n",
    "sns.barplot(x = result.index, \n",
    "            y = result.values)\n",
    "sns.set_palette(\"pastel\")\n",
    "plt.savefig(\"cut.jpeg\") # 그래프 저장하기\n",
    "plt.show()              # 그래프 작업 종료"
   ]
  },
  {
   "cell_type": "markdown",
   "id": "021a15a5",
   "metadata": {},
   "source": [
    "### 2. 수치형 데이터 분석: 1개의 열\n",
    "- 표 = 빈도표\n",
    "- 데이터 시각화 : 히스토그램, 상자그림, 바이올린\n",
    "- 데이터의 요약 : 기술통계량 = 요약통계량"
   ]
  },
  {
   "cell_type": "code",
   "execution_count": 37,
   "id": "02b76b86",
   "metadata": {},
   "outputs": [],
   "source": [
    "# 2.1 표 = 빈도표\n",
    "# 구간의 빈도, 백분율\n",
    "\n",
    "# 구간의 정보를 갖는 새로운 열을 만들기 \n",
    "# carat(무게) : 0.2 ~ 5.01\n",
    "# 새로운 열의 이름: carat_group\n",
    "\n",
    "# 0 이상 ~ 2 미만: \"Light\"\n",
    "# 2 이상 ~ 4 미만: \"Middle\"\n",
    "# 4 이상 ~ 6 미만: \"Heavy\""
   ]
  },
  {
   "cell_type": "code",
   "execution_count": 38,
   "id": "cf48deab",
   "metadata": {},
   "outputs": [
    {
     "data": {
      "text/html": [
       "<div>\n",
       "<style scoped>\n",
       "    .dataframe tbody tr th:only-of-type {\n",
       "        vertical-align: middle;\n",
       "    }\n",
       "\n",
       "    .dataframe tbody tr th {\n",
       "        vertical-align: top;\n",
       "    }\n",
       "\n",
       "    .dataframe thead th {\n",
       "        text-align: right;\n",
       "    }\n",
       "</style>\n",
       "<table border=\"1\" class=\"dataframe\">\n",
       "  <thead>\n",
       "    <tr style=\"text-align: right;\">\n",
       "      <th></th>\n",
       "      <th>carat</th>\n",
       "      <th>cut</th>\n",
       "      <th>color</th>\n",
       "      <th>clarity</th>\n",
       "      <th>depth</th>\n",
       "      <th>table</th>\n",
       "      <th>price</th>\n",
       "      <th>x</th>\n",
       "      <th>y</th>\n",
       "      <th>z</th>\n",
       "      <th>carat_group</th>\n",
       "    </tr>\n",
       "  </thead>\n",
       "  <tbody>\n",
       "    <tr>\n",
       "      <th>0</th>\n",
       "      <td>0.23</td>\n",
       "      <td>Ideal</td>\n",
       "      <td>E</td>\n",
       "      <td>SI2</td>\n",
       "      <td>61.5</td>\n",
       "      <td>55.0</td>\n",
       "      <td>326</td>\n",
       "      <td>3.95</td>\n",
       "      <td>3.98</td>\n",
       "      <td>2.43</td>\n",
       "      <td>Light</td>\n",
       "    </tr>\n",
       "    <tr>\n",
       "      <th>1</th>\n",
       "      <td>0.21</td>\n",
       "      <td>Premium</td>\n",
       "      <td>E</td>\n",
       "      <td>SI1</td>\n",
       "      <td>59.8</td>\n",
       "      <td>61.0</td>\n",
       "      <td>326</td>\n",
       "      <td>3.89</td>\n",
       "      <td>3.84</td>\n",
       "      <td>2.31</td>\n",
       "      <td>Light</td>\n",
       "    </tr>\n",
       "    <tr>\n",
       "      <th>2</th>\n",
       "      <td>0.23</td>\n",
       "      <td>Good</td>\n",
       "      <td>E</td>\n",
       "      <td>VS1</td>\n",
       "      <td>56.9</td>\n",
       "      <td>65.0</td>\n",
       "      <td>327</td>\n",
       "      <td>4.05</td>\n",
       "      <td>4.07</td>\n",
       "      <td>2.31</td>\n",
       "      <td>Light</td>\n",
       "    </tr>\n",
       "    <tr>\n",
       "      <th>3</th>\n",
       "      <td>0.29</td>\n",
       "      <td>Premium</td>\n",
       "      <td>I</td>\n",
       "      <td>VS2</td>\n",
       "      <td>62.4</td>\n",
       "      <td>58.0</td>\n",
       "      <td>334</td>\n",
       "      <td>4.20</td>\n",
       "      <td>4.23</td>\n",
       "      <td>2.63</td>\n",
       "      <td>Light</td>\n",
       "    </tr>\n",
       "    <tr>\n",
       "      <th>4</th>\n",
       "      <td>0.31</td>\n",
       "      <td>Good</td>\n",
       "      <td>J</td>\n",
       "      <td>SI2</td>\n",
       "      <td>63.3</td>\n",
       "      <td>58.0</td>\n",
       "      <td>335</td>\n",
       "      <td>4.34</td>\n",
       "      <td>4.35</td>\n",
       "      <td>2.75</td>\n",
       "      <td>Light</td>\n",
       "    </tr>\n",
       "  </tbody>\n",
       "</table>\n",
       "</div>"
      ],
      "text/plain": [
       "   carat      cut color clarity  depth  table  price     x     y     z  \\\n",
       "0   0.23    Ideal     E     SI2   61.5   55.0    326  3.95  3.98  2.43   \n",
       "1   0.21  Premium     E     SI1   59.8   61.0    326  3.89  3.84  2.31   \n",
       "2   0.23     Good     E     VS1   56.9   65.0    327  4.05  4.07  2.31   \n",
       "3   0.29  Premium     I     VS2   62.4   58.0    334  4.20  4.23  2.63   \n",
       "4   0.31     Good     J     SI2   63.3   58.0    335  4.34  4.35  2.75   \n",
       "\n",
       "  carat_group  \n",
       "0       Light  \n",
       "1       Light  \n",
       "2       Light  \n",
       "3       Light  \n",
       "4       Light  "
      ]
     },
     "execution_count": 38,
     "metadata": {},
     "output_type": "execute_result"
    }
   ],
   "source": [
    "diamonds[\"carat_group\"] = pd.cut(diamonds.carat,\n",
    "                                 bins = [0, 2, 4, 6],\n",
    "                                 right = False,\n",
    "                                 labels = [\"Light\", \"Middle\", \"Heavy\"])\n",
    "diamonds.head()"
   ]
  },
  {
   "cell_type": "code",
   "execution_count": 39,
   "id": "abbf273d",
   "metadata": {},
   "outputs": [
    {
     "data": {
      "text/plain": [
       "carat_group\n",
       "Light     51786\n",
       "Middle     2148\n",
       "Heavy         6\n",
       "Name: count, dtype: int64"
      ]
     },
     "execution_count": 39,
     "metadata": {},
     "output_type": "execute_result"
    }
   ],
   "source": [
    "# (1) 구간의 빈도\n",
    "diamonds.carat_group.value_counts()"
   ]
  },
  {
   "cell_type": "code",
   "execution_count": 42,
   "id": "ad25f26a",
   "metadata": {},
   "outputs": [
    {
     "data": {
      "text/plain": [
       "carat_group\n",
       "Light     96.01\n",
       "Middle     3.98\n",
       "Heavy      0.01\n",
       "Name: proportion, dtype: float64"
      ]
     },
     "execution_count": 42,
     "metadata": {},
     "output_type": "execute_result"
    }
   ],
   "source": [
    "# (2) 구간의 백분율\n",
    "round(diamonds.carat_group.value_counts(normalize=True)*100, ndigits =2)"
   ]
  },
  {
   "cell_type": "code",
   "execution_count": 43,
   "id": "93f8972c",
   "metadata": {},
   "outputs": [],
   "source": [
    "# 1.2 데이터 시각화"
   ]
  },
  {
   "cell_type": "code",
   "execution_count": 44,
   "id": "e41c933d",
   "metadata": {},
   "outputs": [],
   "source": [
    "# (1) 히스토그램(Histogram)\n",
    "# sns.histplot(data = , x = '수치형 데이터', bins or binwidth = )\n",
    "# 구간의 갯수 : Sturge's Formula\n",
    "# plt.show()"
   ]
  },
  {
   "cell_type": "code",
   "execution_count": 53,
   "id": "775c17c9",
   "metadata": {},
   "outputs": [
    {
     "data": {
      "image/png": "[encoded data removed]",
      "text/plain": [
       "<Figure size 640x480 with 1 Axes>"
      ]
     },
     "metadata": {},
     "output_type": "display_data"
    }
   ],
   "source": [
    "sns.histplot(data = diamonds,\n",
    "             x    = \"carat\",   \n",
    "             bins = np.arange(start = 0, stop = 6, step = 0.1)) # 구간의 정보\n",
    "plt.show()"
   ]
  },
  {
   "cell_type": "code",
   "execution_count": 55,
   "id": "4d648f3b",
   "metadata": {},
   "outputs": [
    {
     "data": {
      "image/png": "[encoded data removed]",
      "text/plain": [
       "<Figure size 640x480 with 1 Axes>"
      ]
     },
     "metadata": {},
     "output_type": "display_data"
    }
   ],
   "source": [
    "sns.histplot(data = diamonds,\n",
    "             x    = \"carat\",   \n",
    "             binwidth = 0.5) # 구간의 너비\n",
    "plt.show()"
   ]
  },
  {
   "cell_type": "code",
   "execution_count": 56,
   "id": "3f55646c",
   "metadata": {},
   "outputs": [],
   "source": [
    "# 히스토그램에서 무엇을 보아야 하는가? \n",
    "# - 가장 많은 곳, 가장 적은 곳\n",
    "# - 무게 중심을 찾음, 좌우 대칭 여부 파악\n",
    "# - 이상치(Outlier) : 아주 작은 값 또는 아주 큰 값이 있는지를 파악\n",
    "# - 가장 많은 곳(봉우리)이 몇 개 있는가? : 단봉, 쌍봉, ..."
   ]
  },
  {
   "cell_type": "code",
   "execution_count": 57,
   "id": "fdbd5b81",
   "metadata": {},
   "outputs": [],
   "source": [
    "# (2) 상자그림(Boxplot)\n",
    "# 이상치 유무 파악할 때 용이함\n",
    "# seaborn.boxplot(data = , y = 수치형 데이터)\n",
    "# plt.show()"
   ]
  },
  {
   "cell_type": "code",
   "execution_count": 73,
   "id": "96cda8f1",
   "metadata": {},
   "outputs": [],
   "source": [
    "flierprops = dict(marker =\"o\",\n",
    "                  markerfacecolor = \"r\",\n",
    "                  markersize = 3,\n",
    "                  linestyle = \"none\",\n",
    "                  markeredgecolor = \"r\")  # 이상치에 적용할 스타일"
   ]
  },
  {
   "cell_type": "code",
   "execution_count": 74,
   "id": "1e46b951",
   "metadata": {},
   "outputs": [
    {
     "data": {
      "image/png": "[encoded data removed]",
      "text/plain": [
       "<Figure size 640x480 with 1 Axes>"
      ]
     },
     "metadata": {},
     "output_type": "display_data"
    }
   ],
   "source": [
    "sns.boxplot(data      = diamonds,\n",
    "           y          = \"carat\",\n",
    "           flierprops = flierprops) #이상치에 스탕리 적용하기\n",
    "plt.show()"
   ]
  },
  {
   "cell_type": "code",
   "execution_count": 59,
   "id": "6e7410c3",
   "metadata": {},
   "outputs": [],
   "source": [
    "# 상자 그림에서 무엇을 보아야 하는가 \n",
    "# - 이상치(Outlier)의 유무를 파악\n",
    "# - 구간별로 누가 더 다른가?(비슷한가?)\n",
    "# - 최소값, 최대값, 중위수, Q1, Q3, 범위, 사분위범위"
   ]
  },
  {
   "cell_type": "code",
   "execution_count": 64,
   "id": "49932f1c",
   "metadata": {},
   "outputs": [
    {
     "data": {
      "image/png": "[encoded data removed]",
      "text/plain": [
       "<Figure size 640x480 with 1 Axes>"
      ]
     },
     "metadata": {},
     "output_type": "display_data"
    }
   ],
   "source": [
    "# (3) 바이올린(Violin)\n",
    "# seaborn.violinplot(data = , y = 수치형 데이터)\n",
    "# plt.show()\n",
    "\n",
    "sns.violinplot(data = diamonds, \n",
    "            y = \"carat\",\n",
    "              color = \"orange\")\n",
    "plt.show()"
   ]
  },
  {
   "cell_type": "code",
   "execution_count": 65,
   "id": "51117920",
   "metadata": {},
   "outputs": [],
   "source": [
    "# 2.3 데이터의 요약 : 기술통계량 = 요약통계량\n",
    "# 기술통계량: Descriptive Statistic\n",
    "# 요약통계량: Summary Statistic \n",
    "\n",
    "# 중심 = 대표값\n",
    "# 퍼짐 = 산포 = 다름\n",
    "# 분포의 모양"
   ]
  },
  {
   "cell_type": "code",
   "execution_count": 75,
   "id": "4d3e467e",
   "metadata": {},
   "outputs": [],
   "source": [
    "# (1) 중심 = 대표값 : 평균, 절사(절삭) 평균, 중위수(중앙값), 최빈수(최빈값)"
   ]
  },
  {
   "cell_type": "code",
   "execution_count": 78,
   "id": "92afa99d",
   "metadata": {},
   "outputs": [
    {
     "data": {
      "text/plain": [
       "0.7979397478680014"
      ]
     },
     "execution_count": 78,
     "metadata": {},
     "output_type": "execute_result"
    }
   ],
   "source": [
    "# i.평균(Mean, Average)\n",
    "# data[\"수치형데이터\"].mean()\n",
    "# data.수피형 데이터.mean()\n",
    "\n",
    "diamonds.carat.mean()"
   ]
  },
  {
   "cell_type": "code",
   "execution_count": 80,
   "id": "96de6224",
   "metadata": {},
   "outputs": [
    {
     "data": {
      "text/plain": [
       "0.7569029374201788"
      ]
     },
     "execution_count": 80,
     "metadata": {},
     "output_type": "execute_result"
    }
   ],
   "source": [
    "#ii. 절사평균(절삭평균) : Trimmed Mean\n",
    "# scipy.stats.trim_mean(data.수치형데이터, )\n",
    "stats.trim_mean(diamonds.carat, proportiontocut = 0.05) # 5% 절사평균 "
   ]
  },
  {
   "cell_type": "code",
   "execution_count": 81,
   "id": "8a7d37fa",
   "metadata": {},
   "outputs": [
    {
     "data": {
      "text/plain": [
       "0.7"
      ]
     },
     "execution_count": 81,
     "metadata": {},
     "output_type": "execute_result"
    }
   ],
   "source": [
    "# iii. 중위수(중앙값): Median\n",
    "# data[\"수치형데이터\"].median()\n",
    "# data.수피형 데이터.median()\n",
    "\n",
    "diamonds.carat.median()"
   ]
  },
  {
   "cell_type": "code",
   "execution_count": 82,
   "id": "ad1bc565",
   "metadata": {},
   "outputs": [
    {
     "data": {
      "text/plain": [
       "carat\n",
       "0.30    2604\n",
       "0.31    2249\n",
       "1.01    2242\n",
       "0.70    1981\n",
       "0.32    1840\n",
       "        ... \n",
       "3.02       1\n",
       "3.65       1\n",
       "3.50       1\n",
       "3.22       1\n",
       "3.11       1\n",
       "Name: count, Length: 273, dtype: int64"
      ]
     },
     "execution_count": 82,
     "metadata": {},
     "output_type": "execute_result"
    }
   ],
   "source": [
    "# iv. 최빈수(최빈값): Mode\n",
    "diamonds.carat.value_counts()"
   ]
  },
  {
   "cell_type": "code",
   "execution_count": null,
   "id": "ef6e8c1a",
   "metadata": {},
   "outputs": [],
   "source": []
  }
 ],
 "metadata": {
  "kernelspec": {
   "display_name": "Python 3 (ipykernel)",
   "language": "python",
   "name": "python3"
  },
  "language_info": {
   "codemirror_mode": {
    "name": "ipython",
    "version": 3
   },
   "file_extension": ".py",
   "mimetype": "text/x-python",
   "name": "python",
   "nbconvert_exporter": "python",
   "pygments_lexer": "ipython3",
   "version": "3.9.16"
  }
 },
 "nbformat": 4,
 "nbformat_minor": 5
}
