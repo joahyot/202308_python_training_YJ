{
 "cells": [
  {
   "cell_type": "markdown",
   "id": "73baf9e9",
   "metadata": {},
   "source": [
    "### 1. 연산자 (Opeartor) \n",
    "\n",
    "* 산술 연산자 \n",
    "* 할당 연산자\n",
    "* 비교 연산자\n",
    "* 논리 연산자"
   ]
  },
  {
   "cell_type": "code",
   "execution_count": 1,
   "id": "e8260c7a",
   "metadata": {},
   "outputs": [],
   "source": [
    "# 1.1 산술 연산자 \n",
    "# +, -, *, |, **, %\n",
    "# 기존에 없던 새로운 열을 만들어 낼 떄 "
   ]
  },
  {
   "cell_type": "code",
   "execution_count": 2,
   "id": "5560b207",
   "metadata": {},
   "outputs": [
    {
     "data": {
      "text/plain": [
       "7"
      ]
     },
     "execution_count": 2,
     "metadata": {},
     "output_type": "execute_result"
    }
   ],
   "source": [
    "3 + 4"
   ]
  },
  {
   "cell_type": "code",
   "execution_count": 3,
   "id": "1935e6e1",
   "metadata": {},
   "outputs": [
    {
     "data": {
      "text/plain": [
       "-1"
      ]
     },
     "execution_count": 3,
     "metadata": {},
     "output_type": "execute_result"
    }
   ],
   "source": [
    "3 - 4"
   ]
  },
  {
   "cell_type": "code",
   "execution_count": 4,
   "id": "365d5cf6",
   "metadata": {},
   "outputs": [
    {
     "data": {
      "text/plain": [
       "12"
      ]
     },
     "execution_count": 4,
     "metadata": {},
     "output_type": "execute_result"
    }
   ],
   "source": [
    "3 * 4"
   ]
  },
  {
   "cell_type": "code",
   "execution_count": 5,
   "id": "2bbbbd0f",
   "metadata": {},
   "outputs": [
    {
     "data": {
      "text/plain": [
       "3"
      ]
     },
     "execution_count": 5,
     "metadata": {},
     "output_type": "execute_result"
    }
   ],
   "source": [
    "13//4 #몫 "
   ]
  },
  {
   "cell_type": "code",
   "execution_count": 6,
   "id": "cf5334e1",
   "metadata": {},
   "outputs": [],
   "source": [
    "# 1.2 할당 연산자\n",
    "# = \n",
    "# 저장하는 기능(데이터, 데이터 분석 결과)\n",
    "# 이름 = data \n",
    "\n",
    "# 참소\n",
    "# 저장이 되면 RAM이라는 메모리에 올라감 "
   ]
  },
  {
   "cell_type": "code",
   "execution_count": 7,
   "id": "95576ac8",
   "metadata": {},
   "outputs": [],
   "source": [
    "x1 = 10"
   ]
  },
  {
   "cell_type": "code",
   "execution_count": 8,
   "id": "4a2a5986",
   "metadata": {},
   "outputs": [
    {
     "data": {
      "text/plain": [
       "10"
      ]
     },
     "execution_count": 8,
     "metadata": {},
     "output_type": "execute_result"
    }
   ],
   "source": [
    "x1"
   ]
  },
  {
   "cell_type": "code",
   "execution_count": 9,
   "id": "83a8e3db",
   "metadata": {},
   "outputs": [],
   "source": [
    "x2 = 'Love'"
   ]
  },
  {
   "cell_type": "code",
   "execution_count": 10,
   "id": "a70d755c",
   "metadata": {},
   "outputs": [
    {
     "data": {
      "text/plain": [
       "'Love'"
      ]
     },
     "execution_count": 10,
     "metadata": {},
     "output_type": "execute_result"
    }
   ],
   "source": [
    "x2"
   ]
  },
  {
   "cell_type": "code",
   "execution_count": 11,
   "id": "e3ad61ba",
   "metadata": {},
   "outputs": [],
   "source": [
    "# 1.3 비교 연산자\n",
    "# >, >=, <, <=, ==, != \n",
    "# 조건에 맞는 데이터를 잘라내기(추출하기)"
   ]
  },
  {
   "cell_type": "code",
   "execution_count": 12,
   "id": "520d7cc1",
   "metadata": {},
   "outputs": [
    {
     "data": {
      "text/plain": [
       "False"
      ]
     },
     "execution_count": 12,
     "metadata": {},
     "output_type": "execute_result"
    }
   ],
   "source": [
    "3 > 4"
   ]
  },
  {
   "cell_type": "code",
   "execution_count": 13,
   "id": "089de27d",
   "metadata": {},
   "outputs": [
    {
     "data": {
      "text/plain": [
       "True"
      ]
     },
     "execution_count": 13,
     "metadata": {},
     "output_type": "execute_result"
    }
   ],
   "source": [
    "3 < 4"
   ]
  },
  {
   "cell_type": "code",
   "execution_count": 14,
   "id": "ec64cfa2",
   "metadata": {},
   "outputs": [
    {
     "data": {
      "text/plain": [
       "True"
      ]
     },
     "execution_count": 14,
     "metadata": {},
     "output_type": "execute_result"
    }
   ],
   "source": [
    "3 <= 4"
   ]
  },
  {
   "cell_type": "code",
   "execution_count": 15,
   "id": "28bef9da",
   "metadata": {},
   "outputs": [
    {
     "data": {
      "text/plain": [
       "True"
      ]
     },
     "execution_count": 15,
     "metadata": {},
     "output_type": "execute_result"
    }
   ],
   "source": [
    "3 != 4"
   ]
  },
  {
   "cell_type": "code",
   "execution_count": 16,
   "id": "2d80f25f",
   "metadata": {},
   "outputs": [],
   "source": [
    "# 1.4 논리 연산자 \n",
    "# & : 2개의 조건을 동시에 모두 만족할 떄 잘라내기 됨 \n",
    "# | : 2개의 조건 중 하나만 만족해도 잘라내기 됨\n",
    "# 2개 이상의 조건을 줄 때 사용함"
   ]
  },
  {
   "cell_type": "code",
   "execution_count": 17,
   "id": "d97bef89",
   "metadata": {},
   "outputs": [
    {
     "data": {
      "text/plain": [
       "False"
      ]
     },
     "execution_count": 17,
     "metadata": {},
     "output_type": "execute_result"
    }
   ],
   "source": [
    "(3 > 4) & (5 > 4)"
   ]
  },
  {
   "cell_type": "code",
   "execution_count": null,
   "id": "0a69926c",
   "metadata": {},
   "outputs": [],
   "source": [
    "(3 > 4) | (5 > 4)"
   ]
  },
  {
   "cell_type": "markdown",
   "id": "fdd19881",
   "metadata": {},
   "source": [
    "### 2. 데이터의 유형 (Type)\n",
    "\n",
    "* 수치형 \n",
    "* 문자형\n",
    "* Boolean or Bool "
   ]
  },
  {
   "cell_type": "code",
   "execution_count": null,
   "id": "a2e2d7fd",
   "metadata": {},
   "outputs": [],
   "source": [
    "# 2.1 수치형 (Numeric)\n",
    "# 정수형(integer) \n",
    "# 실수형(float)"
   ]
  },
  {
   "cell_type": "code",
   "execution_count": null,
   "id": "e84023e8",
   "metadata": {},
   "outputs": [],
   "source": [
    "x1 = 10"
   ]
  },
  {
   "cell_type": "code",
   "execution_count": null,
   "id": "3f1d47be",
   "metadata": {},
   "outputs": [],
   "source": [
    "# x1: data\n",
    "# type:numeric, integer "
   ]
  },
  {
   "cell_type": "code",
   "execution_count": null,
   "id": "abea75e5",
   "metadata": {},
   "outputs": [],
   "source": [
    "x2 = 10.2 "
   ]
  },
  {
   "cell_type": "code",
   "execution_count": null,
   "id": "fde80fb8",
   "metadata": {},
   "outputs": [],
   "source": [
    "# x2: data\n",
    "# type: numeric, float "
   ]
  },
  {
   "cell_type": "code",
   "execution_count": null,
   "id": "bebba540",
   "metadata": {},
   "outputs": [],
   "source": [
    "# 2.2 문자형(String, Object, Category )"
   ]
  },
  {
   "cell_type": "code",
   "execution_count": null,
   "id": "388aa857",
   "metadata": {},
   "outputs": [],
   "source": [
    "x3 = \"인생은 고통의 바다이다.\""
   ]
  },
  {
   "cell_type": "code",
   "execution_count": null,
   "id": "eb608ce5",
   "metadata": {},
   "outputs": [],
   "source": [
    "# x3 : data\n",
    "# type : string"
   ]
  },
  {
   "cell_type": "code",
   "execution_count": null,
   "id": "0b318191",
   "metadata": {},
   "outputs": [],
   "source": [
    "x4 = \"문제가 문제가 아니라 문제를 대하는 나의 태도가 문제다.\""
   ]
  },
  {
   "cell_type": "code",
   "execution_count": null,
   "id": "62e0338a",
   "metadata": {},
   "outputs": [],
   "source": [
    "# x4 : data\n",
    "# type : string"
   ]
  },
  {
   "cell_type": "code",
   "execution_count": null,
   "id": "813b68fe",
   "metadata": {},
   "outputs": [],
   "source": [
    "x5 = False "
   ]
  },
  {
   "cell_type": "code",
   "execution_count": null,
   "id": "12521356",
   "metadata": {},
   "outputs": [],
   "source": [
    "# x5 : data\n",
    "# type : boolean"
   ]
  },
  {
   "cell_type": "code",
   "execution_count": null,
   "id": "7048e0d6",
   "metadata": {},
   "outputs": [],
   "source": [
    "x6 = True"
   ]
  },
  {
   "cell_type": "code",
   "execution_count": null,
   "id": "0a240212",
   "metadata": {},
   "outputs": [],
   "source": [
    "# x6 : data\n",
    "# type : boolean"
   ]
  },
  {
   "cell_type": "markdown",
   "id": "a1abc059",
   "metadata": {},
   "source": [
    "### 3. 데이터(Data)\n",
    "- 리스트(list) \n",
    "- 튜플(tuple)\n",
    "- 딕셔너리(Dictionary)\n",
    "- 시리즈(Series)\n",
    "- 데이터프레임(DataFrame)"
   ]
  },
  {
   "cell_type": "code",
   "execution_count": null,
   "id": "26c730a6",
   "metadata": {},
   "outputs": [],
   "source": [
    "# 3.1 리스트(List)\n",
    "# 활용도가 매우 높다\n",
    "# 전체 데이터에서 일부를 잘라내기 또는 함수의 파라미터의 값을 설정할 때 "
   ]
  },
  {
   "cell_type": "code",
   "execution_count": null,
   "id": "13fe05c7",
   "metadata": {},
   "outputs": [],
   "source": [
    "# (1) 리스트 만들기\n",
    "# [값1, 값2, 값3, 값4, 값5...]"
   ]
  },
  {
   "cell_type": "code",
   "execution_count": null,
   "id": "957c07da",
   "metadata": {},
   "outputs": [],
   "source": [
    "hobby = [\"음악 감상\", \"배드민턴\", \"낚시\", \"애니메이션\"]"
   ]
  },
  {
   "cell_type": "code",
   "execution_count": null,
   "id": "2b830fae",
   "metadata": {},
   "outputs": [],
   "source": [
    "# hobby: data, list\n",
    "# type: string "
   ]
  },
  {
   "cell_type": "code",
   "execution_count": null,
   "id": "81aab477",
   "metadata": {},
   "outputs": [],
   "source": [
    "money = [50, 70, 60, 50]"
   ]
  },
  {
   "cell_type": "code",
   "execution_count": null,
   "id": "1be4568d",
   "metadata": {},
   "outputs": [],
   "source": [
    "# money: data, list\n",
    "# type: numeric, integer"
   ]
  },
  {
   "cell_type": "code",
   "execution_count": null,
   "id": "a5c20df7",
   "metadata": {},
   "outputs": [],
   "source": [
    "# (2) 리스트 위치: index\n",
    "# 참고 \n",
    "# 파이썬에서 index는 3가지를 표현함\n",
    "# (1) 위치\n",
    "# (2) 행(row)\n",
    "# (3) 행의 이름 \n",
    "\n",
    "# 파이썬에서 첫 번째는 0으로 표현함"
   ]
  },
  {
   "cell_type": "code",
   "execution_count": null,
   "id": "0f9145bd",
   "metadata": {},
   "outputs": [],
   "source": [
    "# (3) 리스트의 슬라이싱(slicing)\n",
    "# list[index] "
   ]
  },
  {
   "cell_type": "code",
   "execution_count": null,
   "id": "2e272316",
   "metadata": {},
   "outputs": [],
   "source": [
    "age = [10, 20, 30, 40, 50]"
   ]
  },
  {
   "cell_type": "code",
   "execution_count": null,
   "id": "92476213",
   "metadata": {},
   "outputs": [],
   "source": [
    "age[0]"
   ]
  },
  {
   "cell_type": "code",
   "execution_count": null,
   "id": "ed44c6a0",
   "metadata": {},
   "outputs": [],
   "source": [
    "age[1]"
   ]
  },
  {
   "cell_type": "code",
   "execution_count": null,
   "id": "b8cfbc8b",
   "metadata": {},
   "outputs": [],
   "source": [
    "age[4]"
   ]
  },
  {
   "cell_type": "code",
   "execution_count": null,
   "id": "dca134da",
   "metadata": {},
   "outputs": [],
   "source": [
    "age[-1]"
   ]
  },
  {
   "cell_type": "code",
   "execution_count": null,
   "id": "332eba96",
   "metadata": {},
   "outputs": [],
   "source": [
    "# list[start:stop:step] "
   ]
  },
  {
   "cell_type": "code",
   "execution_count": null,
   "id": "94432a15",
   "metadata": {},
   "outputs": [],
   "source": [
    "age = [ 10, 5, 20 ,15, 30, 40, 100]"
   ]
  },
  {
   "cell_type": "code",
   "execution_count": null,
   "id": "ca34c0bd",
   "metadata": {},
   "outputs": [],
   "source": [
    "age[3:] # 4th에서 끝까지"
   ]
  },
  {
   "cell_type": "code",
   "execution_count": null,
   "id": "bd4cb6ad",
   "metadata": {},
   "outputs": [],
   "source": [
    "age[:4] # 1st부터 4th까지"
   ]
  },
  {
   "cell_type": "code",
   "execution_count": null,
   "id": "62e8d0a9",
   "metadata": {},
   "outputs": [],
   "source": [
    "# 3.2 튜플(Tuple)\n",
    "# 리스트와 거의 비슷함\n",
    "# 리스트의 값은 수정이 가능하지만 튜플 값은 수정 불가능함"
   ]
  },
  {
   "cell_type": "code",
   "execution_count": null,
   "id": "6160dfcc",
   "metadata": {},
   "outputs": [],
   "source": [
    "# (1) 튜플 만들기\n",
    "# (값1, 값2, 값3, ...)"
   ]
  },
  {
   "cell_type": "code",
   "execution_count": null,
   "id": "58896d13",
   "metadata": {},
   "outputs": [],
   "source": [
    "parameter = (1, 2, 3)"
   ]
  },
  {
   "cell_type": "code",
   "execution_count": null,
   "id": "3b5442b0",
   "metadata": {},
   "outputs": [],
   "source": [
    "# parameter = data, tuple \n",
    "# type : numeric, ineteger "
   ]
  },
  {
   "cell_type": "code",
   "execution_count": null,
   "id": "759084a3",
   "metadata": {},
   "outputs": [],
   "source": [
    "# 3.3 딕셔너리 (Dictionary)\n",
    "# 검색을 빠르게 하기 위해 만들어짐 \n",
    "# Key, Value로 구성되어 있음"
   ]
  },
  {
   "cell_type": "code",
   "execution_count": null,
   "id": "f9a86f5c",
   "metadata": {},
   "outputs": [],
   "source": [
    "# (1) 딕셔너리 만들기 \n",
    "# {\"key1\": value(s), \"key2\": value(s)}\n",
    "survey = {\"id\": [1, 2, 3, 4], \n",
    "          \"name\":[\"조창범\", \"배원호\", \"김지유\", \"김도희\"],\n",
    "         \"food\": [\"안창살\", \"치킨\", \"떡볶이\", \"마라탕\"]}"
   ]
  },
  {
   "cell_type": "code",
   "execution_count": null,
   "id": "c1e65939",
   "metadata": {},
   "outputs": [],
   "source": [
    "# survey : data, dictionary"
   ]
  },
  {
   "cell_type": "code",
   "execution_count": null,
   "id": "ba78d0e2",
   "metadata": {},
   "outputs": [],
   "source": [
    "# 3.4 시리즈(Series)\n",
    "# 하나의 열 또는 하나의 행으로 구성되어 있음"
   ]
  },
  {
   "cell_type": "code",
   "execution_count": null,
   "id": "4fc4ef58",
   "metadata": {},
   "outputs": [],
   "source": [
    "# 3.5 데이터프레임(DataFrame)\n",
    "# 행과 열로 구성되어 있음. 2차원 구조\n",
    "# 열마다 같은 데이터 유형을 가질 수도 있고, 다른 데이터 유형을 가질 수 있음 \n",
    "# 데이터 분석을 한다고 하면, 그 데이터는 바로 데이터프레임을 얘기함."
   ]
  },
  {
   "cell_type": "code",
   "execution_count": null,
   "id": "412b0d79",
   "metadata": {},
   "outputs": [],
   "source": [
    "#(1) 데이터 프레임 만들기\n",
    "# pandas.DataFrame(dictionary)"
   ]
  },
  {
   "cell_type": "code",
   "execution_count": null,
   "id": "b30b9fed",
   "metadata": {},
   "outputs": [],
   "source": [
    "# pandas: 패키지(package) : 데이터 핸들링, 데이터 읽어오기, 저장하기, 데이터 분석 \n",
    "# 패키지: 함수들의 모임\n",
    "\n",
    "# 함수를 호출\n",
    "# 패키지명.함수명()"
   ]
  },
  {
   "cell_type": "code",
   "execution_count": null,
   "id": "7514da15",
   "metadata": {},
   "outputs": [],
   "source": [
    "# 패키지 사용하는 방법\n",
    "# (1) 패키지를 설치해야 함: 하드(HDD)에 설치\n",
    "# anaconda prompt, pip install 패키지명\n",
    "\n",
    "# (2) 패키지 로딩하기 \n",
    "# 패키지를 RAM에 올리는 기능\n",
    "# import 패키지명 as 애칭, 별명, 줄임말\n",
    "\n",
    "# 참고: as : alias의 약자"
   ]
  },
  {
   "cell_type": "code",
   "execution_count": null,
   "id": "afed7cbc",
   "metadata": {},
   "outputs": [],
   "source": [
    "import pandas as pd"
   ]
  },
  {
   "cell_type": "code",
   "execution_count": null,
   "id": "2e6a66fe",
   "metadata": {},
   "outputs": [],
   "source": [
    "survey = pd.DataFrame(survey)\n",
    "survey"
   ]
  },
  {
   "cell_type": "code",
   "execution_count": null,
   "id": "ce3e443b",
   "metadata": {},
   "outputs": [],
   "source": [
    "# survey: data, dataframe"
   ]
  },
  {
   "cell_type": "markdown",
   "id": "c6e2b51f",
   "metadata": {},
   "source": [
    "### 4. 데이터 읽어오기 \n",
    "- txt.\n",
    "- csv. \n",
    "- xls, xlsx\n",
    "- pickle\n",
    "- DB"
   ]
  },
  {
   "cell_type": "code",
   "execution_count": null,
   "id": "40102b62",
   "metadata": {},
   "outputs": [],
   "source": [
    "# 4.1 txt\n",
    "# 데이터의 이름 = pd.read_table(filepath_ir_buffer = \"directory/filename.txt\",\n",
    "#                                             sep  = '' or ',' or \"\\t\",\n",
    "#                                          header  = 0, \n",
    "#                                        encoding  = 'EUC-KR')"
   ]
  },
  {
   "cell_type": "code",
   "execution_count": null,
   "id": "8ca99a36",
   "metadata": {},
   "outputs": [],
   "source": [
    "factory = pd.read_table(filepath_or_buffer= \"d:/novelis/ds2023/factory.txt\",\n",
    "                        sep               = ' ',\n",
    "                        header            = 0)\n",
    "factory"
   ]
  },
  {
   "cell_type": "code",
   "execution_count": null,
   "id": "74659f6c",
   "metadata": {},
   "outputs": [],
   "source": [
    "culture = pd.read_table(filepath_or_buffer=\"d:/novelis/ds2023/culture.txt\",\n",
    "                       sep                = \",\",\n",
    "                       header             = 0)\n",
    "culture"
   ]
  },
  {
   "cell_type": "code",
   "execution_count": null,
   "id": "a8a6e331",
   "metadata": {},
   "outputs": [],
   "source": [
    "travel = pd.read_table(filepath_or_buffer= \"d:/novelis/ds2023/travel.txt\",\n",
    "                      sep                = \"\\t\",\n",
    "                      header             = 0)\n",
    "travel"
   ]
  },
  {
   "cell_type": "code",
   "execution_count": null,
   "id": "52243062",
   "metadata": {},
   "outputs": [],
   "source": [
    "# 4.2 csv\n",
    "# csv : comma separated value\n",
    "# 데이터의 이름 = pd.read_csv(filepath_ir_buffer = \"directory/filename.csv\",\n",
    "#                                             sep  = '' or ',' or \"\\t\",\n",
    "#                                          header  = 0, \n",
    "#                                        encoding  = 'EUC-KR')"
   ]
  },
  {
   "cell_type": "code",
   "execution_count": null,
   "id": "30f8461b",
   "metadata": {},
   "outputs": [],
   "source": [
    "wish = pd.read_csv(filepath_or_buffer = \"d:/novelis/ds2023/wish.csv\",\n",
    "                  header              = 0,\n",
    "                  encoding            = 'EUC-KR')\n",
    "wish"
   ]
  },
  {
   "cell_type": "code",
   "execution_count": null,
   "id": "dc3023a0",
   "metadata": {},
   "outputs": [],
   "source": [
    "# 4.2 xls, xlsx\n",
    "# csv : comma separated value\n",
    "# 데이터의 이름 = pd.read_xls(io= \"directory/filename.xlsx\",\n",
    "#                             sheet_name  = '' or ',' or \"\\t\",\n",
    "#                             header  = 0)"
   ]
  },
  {
   "cell_type": "code",
   "execution_count": null,
   "id": "4c631a43",
   "metadata": {},
   "outputs": [],
   "source": [
    "reading1 = pd.read_excel(io = \"d:/novelis/ds2023/reading.xlsx\",\n",
    "                     sheet_name = \"data\",\n",
    "                    header = 0)\n",
    "reading1"
   ]
  },
  {
   "cell_type": "code",
   "execution_count": null,
   "id": "f0cf6572",
   "metadata": {},
   "outputs": [],
   "source": [
    "reading2 = pd.read_excel(io = \"d:/novelis/ds2023/reading.xlsx\",\n",
    "                     sheet_name = 0,\n",
    "                    header = 0)\n",
    "reading2"
   ]
  },
  {
   "cell_type": "code",
   "execution_count": null,
   "id": "62f50223",
   "metadata": {},
   "outputs": [],
   "source": [
    "# 4.4 pickle\n",
    "# 데이터의 이름 = pandas.read_pickle(filepath_or_buffer = \"directory/filename.pickle)"
   ]
  },
  {
   "cell_type": "code",
   "execution_count": null,
   "id": "463c54df",
   "metadata": {},
   "outputs": [],
   "source": [
    "reading = pd.read_pickle(filepath_or_buffer = \"d:/novelis/ds2023/reading_20230828.pickle\")"
   ]
  },
  {
   "cell_type": "raw",
   "id": "5ca9b6d2",
   "metadata": {},
   "source": [
    "reading"
   ]
  },
  {
   "cell_type": "markdown",
   "id": "e66fe682",
   "metadata": {},
   "source": [
    "### 5. 데이터 저장하기 \n",
    "- txt\n",
    "- csv\n",
    "- xls. xlsx\n",
    "- pickle"
   ]
  },
  {
   "cell_type": "code",
   "execution_count": null,
   "id": "221952c1",
   "metadata": {},
   "outputs": [],
   "source": [
    "# RAM에 저장되어 있는 파이썬 데이터를 HDD에 저장하는 것"
   ]
  },
  {
   "cell_type": "code",
   "execution_count": null,
   "id": "92cce195",
   "metadata": {},
   "outputs": [],
   "source": [
    "# 5.1 txt\n",
    "# data.to_csv(path_of _buf = \"directory(filename.txt\",\n",
    "#             sep          = \" \"or \",\" or \"\\t\",\n",
    "#             index        = False)"
   ]
  },
  {
   "cell_type": "code",
   "execution_count": null,
   "id": "42b63714",
   "metadata": {},
   "outputs": [],
   "source": [
    "reading1.to_csv(path_or_buf = \"d:/novelis/ds2023/reading_20230828.txt\",\n",
    "              sep          = \" \",\n",
    "              header       = True,\n",
    "              index        = False)"
   ]
  },
  {
   "cell_type": "code",
   "execution_count": null,
   "id": "6fd00e82",
   "metadata": {},
   "outputs": [],
   "source": [
    "# 5.2 csv\n",
    "# data.to_csv(path_of _buf = \"directory(filename.csv\",\n",
    "#             header       = True\n",
    "#             index        = False)"
   ]
  },
  {
   "cell_type": "code",
   "execution_count": null,
   "id": "ab5a5fde",
   "metadata": {},
   "outputs": [],
   "source": [
    "reading1.to_csv(path_or_buf = \"d:/novelis/ds2023/reading_20230828.csv\",\n",
    "               header       = True,\n",
    "               index        = False,\n",
    "               encoding     ='EUC-KR')"
   ]
  },
  {
   "cell_type": "code",
   "execution_count": null,
   "id": "0e71c8ba",
   "metadata": {},
   "outputs": [],
   "source": [
    "# 5.3 xls, xlsx\n",
    "# data.to_excel(excel__writer = \"directory/filename.xlsx\",\n",
    "#               sheet_name    = \"sheet_name\",\n",
    "#               header        = True,\n",
    "#               index         = False)"
   ]
  },
  {
   "cell_type": "code",
   "execution_count": null,
   "id": "84f3f6a1",
   "metadata": {},
   "outputs": [],
   "source": [
    "reading1.to_excel(excel_writer = \"d:/novelis/ds2023/reading_20230828.xlsx\",\n",
    "                  sheet_name   = \"data\",\n",
    "                  header       = True,\n",
    "                  index        = False)"
   ]
  },
  {
   "cell_type": "code",
   "execution_count": null,
   "id": "7c94e4b9",
   "metadata": {},
   "outputs": [],
   "source": [
    "# 5.4 pickle\n",
    "# data.to_pickle(path = \"dirctory/finame.pkl\")"
   ]
  },
  {
   "cell_type": "code",
   "execution_count": null,
   "id": "4cc5d193",
   "metadata": {},
   "outputs": [],
   "source": [
    "reading1.to_pickle(path = \"d:/novelis/ds2023/reading_20230828.pickle\")"
   ]
  },
  {
   "cell_type": "markdown",
   "id": "d006b956",
   "metadata": {},
   "source": [
    "### 6. 데이터 핸들링 (Data Handling) = 데이터 전처리(Data pre-processing)\n",
    "- 데이터 보기\n",
    "- 데이터의 속성\n",
    "- 데이터의 슬라이싱\n",
    "- 데이터의 생성\n",
    "- 데이터의 삭제\n",
    "- 데이터의 정렬\n",
    "- 데이터 합치기 \n"
   ]
  },
  {
   "cell_type": "code",
   "execution_count": null,
   "id": "55462326",
   "metadata": {},
   "outputs": [],
   "source": [
    "# 예제 데이터 : seabon 패키지 diamonds 데이터 "
   ]
  },
  {
   "cell_type": "code",
   "execution_count": null,
   "id": "d5bb383a",
   "metadata": {},
   "outputs": [],
   "source": [
    "import seaborn as sns"
   ]
  },
  {
   "cell_type": "code",
   "execution_count": null,
   "id": "11ef94b9",
   "metadata": {},
   "outputs": [],
   "source": [
    "diamonds = sns.load_dataset(\"diamonds\")"
   ]
  },
  {
   "cell_type": "code",
   "execution_count": null,
   "id": "67ee0dbf",
   "metadata": {},
   "outputs": [],
   "source": [
    "# 6.1 데이터 보기 \n",
    "# 데이터를 잘 읽어왔는지를 확인\n",
    "# 전체, 일부(head, tail)"
   ]
  },
  {
   "cell_type": "code",
   "execution_count": null,
   "id": "18e2d0d3",
   "metadata": {},
   "outputs": [],
   "source": [
    "# (1) 전체 \n",
    "# 데이터의 양이 적을 떄: 행 기준 \n",
    "diamonds"
   ]
  },
  {
   "cell_type": "code",
   "execution_count": null,
   "id": "a86f4008",
   "metadata": {},
   "outputs": [],
   "source": [
    "# (2) 일부: data.head(n=5)"
   ]
  },
  {
   "cell_type": "code",
   "execution_count": null,
   "id": "bb7ba207",
   "metadata": {},
   "outputs": [],
   "source": [
    "diamonds.head()"
   ]
  },
  {
   "cell_type": "code",
   "execution_count": null,
   "id": "4fee3680",
   "metadata": {},
   "outputs": [],
   "source": [
    "diamonds.tail()"
   ]
  },
  {
   "cell_type": "code",
   "execution_count": null,
   "id": "fa831778",
   "metadata": {},
   "outputs": [],
   "source": [
    "# 6.2 데이터의 속성(Attributes)\n",
    "# 행의 갯수, 열의 갯수, 열의 이름, 데이터의 유형, 정보"
   ]
  },
  {
   "cell_type": "code",
   "execution_count": null,
   "id": "6ecf892d",
   "metadata": {},
   "outputs": [],
   "source": [
    "# (1) 행의 갯수 : len(data)\n",
    "len(diamonds)"
   ]
  },
  {
   "cell_type": "code",
   "execution_count": null,
   "id": "aa5db00a",
   "metadata": {},
   "outputs": [],
   "source": [
    "# (2) 행의 갯수와 열의 갯수: data.shape\n",
    "#(숫자 1, 숫자 2) -> 숫자 1: 행의 갯수, 숫자 2: 열의 갯수\n",
    "\n",
    "# 차원(dimension): 숫자의 개수가 몇 개인지를 확인\n",
    "\n",
    "diamonds.shape  # -> 2차원 구조"
   ]
  },
  {
   "cell_type": "code",
   "execution_count": null,
   "id": "93099d08",
   "metadata": {},
   "outputs": [],
   "source": [
    "# (3)열의 이름: data.columns\n",
    "diamonds.columns"
   ]
  },
  {
   "cell_type": "code",
   "execution_count": null,
   "id": "2876fd7f",
   "metadata": {},
   "outputs": [],
   "source": [
    "# (4) 데이터의 유형: data.dtypes\n",
    "diamonds.dtypes"
   ]
  },
  {
   "cell_type": "code",
   "execution_count": null,
   "id": "cf90d202",
   "metadata": {},
   "outputs": [],
   "source": [
    "# (5) 데이터의 정보: data.info()\n",
    "diamonds.info()"
   ]
  },
  {
   "cell_type": "code",
   "execution_count": null,
   "id": "25206a0c",
   "metadata": {},
   "outputs": [],
   "source": [
    "# 참고: Missing value(결측치, 결측값)\n",
    "\n",
    "# 만약에 데이터에 missing value가 존재한다면\n",
    "# (1) 삭제한다 : 행, 열\n",
    "# (2) 대체한다(imputation) : 다름 값으로 결측치를 바꿈\n",
    "# 문자형: 가장 많이 있는 값, 가장 적은 값\n",
    "# 수치형: 평균, 절사평균, 중위값, ...\n"
   ]
  },
  {
   "cell_type": "code",
   "execution_count": null,
   "id": "9d48827f",
   "metadata": {},
   "outputs": [],
   "source": [
    "# 6.3 데이터의 슬라이싱 \n",
    "# 열, 행, 행과 열 "
   ]
  },
  {
   "cell_type": "code",
   "execution_count": null,
   "id": "351840aa",
   "metadata": {},
   "outputs": [],
   "source": [
    "# (1) 열\n",
    "# 하나의 열, 2개 이상인 경우"
   ]
  },
  {
   "cell_type": "code",
   "execution_count": null,
   "id": "6be9f238",
   "metadata": {},
   "outputs": [],
   "source": [
    "# i. 하나의 열\n",
    "# data['열의 이름'] or data.열의 이름"
   ]
  },
  {
   "cell_type": "code",
   "execution_count": null,
   "id": "df0fb958",
   "metadata": {},
   "outputs": [],
   "source": [
    "diamonds['carat']"
   ]
  },
  {
   "cell_type": "code",
   "execution_count": null,
   "id": "502ecc2e",
   "metadata": {},
   "outputs": [],
   "source": [
    "diamonds.carat"
   ]
  },
  {
   "cell_type": "code",
   "execution_count": null,
   "id": "78a7f3e5",
   "metadata": {},
   "outputs": [],
   "source": [
    "# ii. 2개 이상의 열\n",
    "# data[[\"열1\", \"열2\", ...]]\n",
    "# data.loc[:, 열]"
   ]
  },
  {
   "cell_type": "code",
   "execution_count": null,
   "id": "624d06a7",
   "metadata": {},
   "outputs": [],
   "source": [
    "# cut, color, clarity\n",
    "\n",
    "diamonds[[\"cut\", \"color\", \"clarity\"]]"
   ]
  },
  {
   "cell_type": "code",
   "execution_count": null,
   "id": "64152277",
   "metadata": {},
   "outputs": [],
   "source": [
    "diamonds.loc[:, [\"cut\", \"color\", \"clarity\"]]"
   ]
  },
  {
   "cell_type": "code",
   "execution_count": null,
   "id": "ed002aec",
   "metadata": {},
   "outputs": [],
   "source": [
    "# (2) 행: 비교 연산자, 논리 연산자 \n",
    "# data.loc[조건, :] "
   ]
  },
  {
   "cell_type": "code",
   "execution_count": null,
   "id": "d315c871",
   "metadata": {},
   "outputs": [],
   "source": [
    "# i. cut : \"Fair\" , \"Good\", \"Very Good\", \" Premium\", \"Ideal\"\n",
    "# cut이 \"Ideal\"인 데이터\n",
    "diamonds.loc[diamonds.cut == \"Ideal\" , :]"
   ]
  },
  {
   "cell_type": "code",
   "execution_count": null,
   "id": "e17c54b3",
   "metadata": {},
   "outputs": [],
   "source": [
    "# ii. price 가 18000 달러 이상인 데이터 \n",
    "diamonds.loc[diamonds.price >= 18000, :]"
   ]
  },
  {
   "cell_type": "code",
   "execution_count": null,
   "id": "652d0910",
   "metadata": {},
   "outputs": [],
   "source": [
    "# iii. cut은 \"Ideal\"이고, price는 18000 달러 이상인 데이터\n",
    "diamonds.loc[(diamonds.cut == \"Ideal\") & (diamonds.price >= 18000), :]"
   ]
  },
  {
   "cell_type": "code",
   "execution_count": null,
   "id": "1fa0686d",
   "metadata": {},
   "outputs": [],
   "source": [
    "# iv. cut은 \"Ideal\"이거나 또는, price는 18000 달러 이상인 데이터\n",
    "diamonds.loc[(diamonds.cut == \"Ideal\") | (diamonds.price >= 18000), :]"
   ]
  },
  {
   "cell_type": "code",
   "execution_count": null,
   "id": "ea4281ac",
   "metadata": {},
   "outputs": [],
   "source": [
    "# (3) 행과 열\n",
    "# data.loc[행, 열]\n",
    "\n",
    "# cut은 \"Ideal\"이고, price는 18000 달러 이상인 데이터의 'x', 'y', 'z'"
   ]
  },
  {
   "cell_type": "code",
   "execution_count": null,
   "id": "fbe29138",
   "metadata": {},
   "outputs": [],
   "source": [
    "diamonds.loc[(diamonds.cut == \"Ideal\") | (diamonds.price >= 18000), ['x', 'y', 'z']]"
   ]
  },
  {
   "cell_type": "code",
   "execution_count": null,
   "id": "0dbe7e5f",
   "metadata": {},
   "outputs": [],
   "source": [
    "# 6.5  데이터의 생성: 열\n",
    "# 참고\n",
    "# 열(column)\n",
    "# 통계     : 변수(variable) : 독립 변수(설명 변수), 종속 변수(반응 변수)\n",
    "# 인공지능 : Feature, Label(or Target) \n",
    "\n",
    "# x: 독립변수(설명변수), Feature\n",
    "# y: 종속변수(반응변수), Label or Target\n",
    "\n",
    "# 데이터 분석의 최종: Y가 숫자냐 문자냐 \n",
    "# 숫자면 : 예측\n",
    "# 문자면 : 숫자지만 숫자의 의미가 없는 경우 : 분류"
   ]
  },
  {
   "cell_type": "code",
   "execution_count": null,
   "id": "9c9d5965",
   "metadata": {},
   "outputs": [],
   "source": [
    "# (1) 연산\n",
    "# data[\"새로운 열의 이름\"] = 연산\n",
    "# 새로운 열의 이름 : xyz_mean\n",
    "# 연산             : (x + y + z)/자유도 (df: degree of freedom)\n",
    "\n",
    "diamonds[\"xyz_mean\"] = (diamonds.x + diamonds.y + diamonds.z)/3\n",
    "diamonds.head()"
   ]
  },
  {
   "cell_type": "code",
   "execution_count": null,
   "id": "bc2e71f9",
   "metadata": {},
   "outputs": [],
   "source": [
    "# (2) 변환(Transformation)\n",
    "# 숫자로 된 데이터만 적용\n",
    "\n",
    "# 로그 변환(log), 루트 변환(root), 역수 변환(inverse)"
   ]
  },
  {
   "cell_type": "code",
   "execution_count": null,
   "id": "4e949ff0",
   "metadata": {},
   "outputs": [],
   "source": [
    "import numpy as np"
   ]
  },
  {
   "cell_type": "code",
   "execution_count": null,
   "id": "41973dd7",
   "metadata": {},
   "outputs": [],
   "source": [
    "# i. 로그 변환(Log Transformation)\n",
    "# 새로운 열의 이름 : price_log10\n",
    "# numpy.log10(수치형 데이터)\n",
    "\n",
    "diamonds[\"price_log10\"] = np.log10(diamonds.price)"
   ]
  },
  {
   "cell_type": "code",
   "execution_count": null,
   "id": "3a0a325a",
   "metadata": {},
   "outputs": [],
   "source": [
    "dia"
   ]
  },
  {
   "cell_type": "code",
   "execution_count": null,
   "id": "fbf42b5f",
   "metadata": {},
   "outputs": [],
   "source": []
  }
 ],
 "metadata": {
  "kernelspec": {
   "display_name": "Python 3 (ipykernel)",
   "language": "python",
   "name": "python3"
  },
  "language_info": {
   "codemirror_mode": {
    "name": "ipython",
    "version": 3
   },
   "file_extension": ".py",
   "mimetype": "text/x-python",
   "name": "python",
   "nbconvert_exporter": "python",
   "pygments_lexer": "ipython3",
   "version": "3.9.16"
  }
 },
 "nbformat": 4,
 "nbformat_minor": 5
}
